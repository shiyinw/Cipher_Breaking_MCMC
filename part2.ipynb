{
 "cells": [
  {
   "cell_type": "markdown",
   "metadata": {},
   "source": [
    "# Import Packages"
   ]
  },
  {
   "cell_type": "code",
   "execution_count": 2,
   "metadata": {
    "ExecuteTime": {
     "end_time": "2019-05-08T04:41:41.835658Z",
     "start_time": "2019-05-08T04:41:39.195029Z"
    }
   },
   "outputs": [],
   "source": [
    "import numpy as np\n",
    "import pandas as pd\n",
    "import math, random, time, collections\n",
    "from multiprocessing import Pool\n",
    "import seaborn as sns\n",
    "import matplotlib.pyplot as plt\n",
    "sns.set_style(\"whitegrid\")"
   ]
  },
  {
   "cell_type": "markdown",
   "metadata": {},
   "source": [
    "# Load Data"
   ]
  },
  {
   "cell_type": "code",
   "execution_count": 3,
   "metadata": {
    "ExecuteTime": {
     "end_time": "2019-05-08T04:41:42.994374Z",
     "start_time": "2019-05-08T04:41:42.633185Z"
    }
   },
   "outputs": [
    {
     "name": "stderr",
     "output_type": "stream",
     "text": [
      "/usr/local/lib/python3.7/site-packages/ipykernel_launcher.py:7: RuntimeWarning: divide by zero encountered in log\n",
      "  import sys\n"
     ]
    },
    {
     "data": {
      "text/plain": [
       "<matplotlib.axes._subplots.AxesSubplot at 0x11c767470>"
      ]
     },
     "execution_count": 3,
     "metadata": {},
     "output_type": "execute_result"
    },
    {
     "data": {
      "image/png": "[encoded data removed]",
      "text/plain": [
       "<Figure size 432x288 with 2 Axes>"
      ]
     },
     "metadata": {
      "needs_background": "light"
     },
     "output_type": "display_data"
    }
   ],
   "source": [
    "M = np.zeros(shape=([28, 28]))\n",
    "with open(\"data/letter_transition_matrix.csv\", \"r\") as f:\n",
    "    lines = f.readlines()\n",
    "    assert len(lines)==28, \"The size of the alphabet is 28\"\n",
    "    for i in range(28):\n",
    "        M[i, :] = [float(x) for x in lines[i].split(\",\")]\n",
    "logM = np.log(M) # 0 exists\n",
    "sns.heatmap(M)\n",
    "# plt.savefig(\"transition.pdf\")"
   ]
  },
  {
   "cell_type": "code",
   "execution_count": 4,
   "metadata": {
    "ExecuteTime": {
     "end_time": "2019-05-07T20:54:02.506668Z",
     "start_time": "2019-05-07T20:54:02.496159Z"
    }
   },
   "outputs": [
    {
     "name": "stdout",
     "output_type": "stream",
     "text": [
      "27\n"
     ]
    }
   ],
   "source": [
    "x, y = np.where(logM==-float('inf'))\n",
    "unique, counts = np.unique(y, return_counts=True)\n",
    "for i, v in dict(zip(unique, counts)).items():\n",
    "    if v==27:\n",
    "        print(i)"
   ]
  },
  {
   "cell_type": "code",
   "execution_count": 6,
   "metadata": {
    "ExecuteTime": {
     "end_time": "2019-05-07T20:54:02.998227Z",
     "start_time": "2019-05-07T20:54:02.988557Z"
    }
   },
   "outputs": [
    {
     "data": {
      "text/plain": [
       "array([-2.74406395, -4.38811834, -3.9830586 , -3.3385973 , -2.29960929,\n",
       "       -4.01201128, -4.13061131, -2.98854679, -2.88517691, -6.88957533,\n",
       "       -5.15651086, -3.46192543, -3.77947318, -2.87297517, -2.77598578,\n",
       "       -4.357324  , -7.0068771 , -3.03101449, -3.0011987 , -2.65164984,\n",
       "       -3.77174282, -4.80810333, -3.93312995, -6.72116167, -4.01909939,\n",
       "       -8.05087363, -1.67694606, -4.68483536])"
      ]
     },
     "execution_count": 6,
     "metadata": {},
     "output_type": "execute_result"
    }
   ],
   "source": [
    "P = np.zeros(shape=([28]))\n",
    "with open(\"data/letter_probabilities.csv\", \"r\") as f:\n",
    "    line = f.readline()\n",
    "    assert len(lines)==28, \"The size of the alphabet is 28\"\n",
    "    P = [float(x) for x in line[:-1].split(\",\")]\n",
    "logP = np.log(P)\n",
    "logP"
   ]
  },
  {
   "cell_type": "code",
   "execution_count": 7,
   "metadata": {
    "ExecuteTime": {
     "end_time": "2019-05-07T20:54:03.289431Z",
     "start_time": "2019-05-07T20:54:03.283639Z"
    }
   },
   "outputs": [],
   "source": [
    "with open(\"data/alphabet.csv\", \"r\") as f:\n",
    "    line = f.readline()\n",
    "    assert len(lines)==28, \"The size of the alphabet is 28\"\n",
    "    Alphabet = line[:-1].split(\",\")\n",
    "    content2idx = {}\n",
    "    idx2content = {}\n",
    "    for i in range(28):\n",
    "        content2idx[Alphabet[i]] = i\n",
    "        idx2content[i] = Alphabet[i]"
   ]
  },
  {
   "cell_type": "code",
   "execution_count": 8,
   "metadata": {
    "ExecuteTime": {
     "end_time": "2019-05-07T20:54:03.541662Z",
     "start_time": "2019-05-07T20:54:03.530387Z"
    }
   },
   "outputs": [
    {
     "data": {
      "text/plain": [
       "'chapter i well prince so genoa and lucca are now just family estates of the buonapartes. but i warn you if you dont tell me that this means war if you still try to defend the infamies and horrors perpetrated by that antichristi really believe he is antichristi will have nothing more to do with you and you are no longer my friend no longer my faithful slave as you call yourself but how do you do i see i have frightened yousit down and tell me all the news. it was in july and the speaker was the wellknown anna pavlovna scherer maid of honor and favorite of the empress marya fedorovna. with these words she greeted prince vasili kuragin a man of high rank and importance who was the first to arrive at her reception. anna pavlovna had had a cough for some days. she was as she said suffering from la grippe grippe being then a new word in st. petersburg used only by the elite. all her invitations without exception written in french and delivered by a scarletliveried footman that morning ran as follows if you have nothing better to do count or prince and if the prospect of spending an evening with a poor invalid is not too terrible i shall be very charmed to see you tonight between and annette scherer. heavens what a virulent attack replied the prince not in the least disconcerted by this reception. he had just entered wearing an embroidered court uniform knee breeches and shoes and had stars on his breast and a serene expression on his flat face. he spoke in that refined french in which our grandfathers not only spoke but thought and with the gentle patronizing intonation natural to a man of importance who had grown old in society and at court. he went up to anna pavlovna kissed her hand presenting to her his bald scented and shining head and complacently seated himself on the sofa. first of all dear friend tell me how you are. set your friends mind at rest said he without altering his tone beneath the politeness and affected sympathy of which indifference and even irony could be discerned. can one be well while suffering morally can one be calm in times like these if one has any feeling said anna pavlovna. you are staying the whole evening i hope and the fete at the english ambassadors today is wednesday. i must put in an appearance there said the prince. my daughter is coming for me to take me there. i thought todays fete had been canceled. i confess all these festivities and fireworks are becoming wearisome. if they had known that you wished it the entertainment would have been put off said the prince who like a woundup clock by force of habit said things he did not even wish to be believed. dont tease well and what has been decided about novosiltsevs dispatch you know everything. what can one say about it replied the prince in a cold listless tone. what has been decided they have decided that buonaparte has burnt his boats and i believe that we are ready to burn ours. prince vasili always spoke languidly like an actor repeating a stale part. anna pavlovna scherer on the contrary despite her forty years overflowed with animation and impulsiveness. to be an enthusiast had become her social vocation and sometimes even when she did not feel like it she became enthusiastic in order not to disappoint the expectations of those who knew her. the subdued smile which though it did not suit her faded features always played round her lips expressed as in a spoiled child a continual consciousness of her charming defect which she neither wished nor could nor considered it necessary to correct. in the midst of a conversation on political matters anna pavlovna burst out oh dont speak to me of austria. perhaps i dont understand things but austria never has wished and does not wish for war. she is betraying us russia alone must save europe. our gracious sovereign recognizes his high vocation and will be true to it. that is the one thing i have faith in our good and wonderful sovereign has to perform the noblest role on earth and he is so virtuous and noble that god will not forsake him. he will fulfill his vocation and crush the hydra of revolution which has become more terrible than ever in the person of this murderer and villain we alone must avenge the blood of the just one. whom i ask you can we rely on. england with her commercial spirit will not and cannot understand the emperor alexanders loftiness of soul. she has refused to evacuate malta. she wanted to find and still seeks some secret motive in our actions. what answer did novosiltsev get none. the english have not understood and cannot understand the selfabnegation of our emperor who wants nothing for himself but only desires the good of mankind. and what have they promised nothing and what little they have promised they will not perform prussia has always declared that buonaparte is invincible and that all europe is powerless before him. and i dont believe a word that hardenburg says or haugwitz either. this famous prussian neutrality is just a trap. i have faith only in god and the lofty destiny of our adored monarch. he will save europe she suddenly paused smiling at her own impetuosity. i think said the prince with a smile that if you had been sent instead of our dear wintzingerode you would have captured the king of prussias consent by assault.'"
      ]
     },
     "execution_count": 8,
     "metadata": {},
     "output_type": "execute_result"
    }
   ],
   "source": [
    "with open(\"test_ciphertext_breakpoint.txt\", \"r\") as f:\n",
    "    ciphertext = f.read()[:-1] # replace \\n at the end of the file\n",
    "ciphertext\n",
    "with open(\"test_plaintext.txt\", \"r\") as f:\n",
    "    plaintext = f.read()[:-1] # replace \\n at the end of the file\n",
    "plaintext"
   ]
  },
  {
   "cell_type": "markdown",
   "metadata": {},
   "source": [
    "The char after \".\" must be \" \". We can't have two adjacent \".\" or \" \""
   ]
  },
  {
   "cell_type": "markdown",
   "metadata": {},
   "source": [
    "# MCMC\n",
    "Store the ciphering function as a dictionary."
   ]
  },
  {
   "cell_type": "code",
   "execution_count": 103,
   "metadata": {
    "ExecuteTime": {
     "end_time": "2019-05-07T22:38:56.838779Z",
     "start_time": "2019-05-07T22:38:56.782779Z"
    }
   },
   "outputs": [],
   "source": [
    "class MCMC:\n",
    "    def __init__(self, ciphertext, answer):\n",
    "        self.alphabet = ['a', 'b', 'c', 'd', 'e', 'f', 'g', 'h', 'i', 'j', 'k', 'l', 'm', 'n', 'o', 'p', 'q', 'r', 's', 't', 'u', 'v', 'w', 'x', 'y', 'z', ' ', '.']\n",
    "        self.answer = answer\n",
    "        self.idx2alpha = dict(zip(range(28), self.alphabet))\n",
    "        random.shuffle(self.alphabet)\n",
    "        self.cur_f = dict(zip(self.alphabet, range(28)))\n",
    "        self.ciphertext_transition = collections.Counter()\n",
    "        for a in self.alphabet:\n",
    "            self.ciphertext_transition[a] = collections.Counter()\n",
    "        for i in range(1, len(ciphertext), 1): #including /n\n",
    "            self.ciphertext_transition[ciphertext[i]][ciphertext[i-1]] += 1\n",
    "        self.ciphertext = ciphertext\n",
    "        self.set1, self.set2 = self.checkvalid(self.ciphertext)\n",
    "        \n",
    "    def Pf(self, code2idx):\n",
    "        logPf = logP[code2idx[self.ciphertext[0]]]\n",
    "        for a in self.alphabet:\n",
    "            for b in self.alphabet:\n",
    "                if self.ciphertext_transition[a][b]!=0:\n",
    "                    if logM[code2idx[a], code2idx[b]] == -math.inf:\n",
    "                        return \"not exist\"\n",
    "                    else:\n",
    "                        logPf += self.ciphertext_transition[a][b] * logM[code2idx[a], code2idx[b]]\n",
    "        \n",
    "        return logPf\n",
    "    \n",
    "    def generate_f(self, oldf, set1, set2):\n",
    "        # set1: \".\"\n",
    "        # set2 : \" \"\n",
    "        a, b = random.sample(self.alphabet, 2)\n",
    "        f2 = oldf.copy()\n",
    "        f2[a] = self.cur_f[b]\n",
    "        f2[b] = self.cur_f[a]\n",
    "        for i, v in f2.items():\n",
    "            if(v==27 and i not in self.set1):\n",
    "                candidate = random.sample(self.set1, k=1)[0]\n",
    "                tmp = f2[i]\n",
    "                f2[i] = f2[candidate]\n",
    "                f2[candidate] = tmp\n",
    "            if(v==26 and i not in self.set2):\n",
    "                candidate = random.sample(self.set2, k=1)[0]\n",
    "                tmp = f2[i]\n",
    "                f2[i] = f2[candidate]\n",
    "                f2[candidate] = tmp\n",
    "        return f2\n",
    "\n",
    "    \n",
    "    def decode(self):\n",
    "        s = \"\"\n",
    "        for c in self.ciphertext:\n",
    "            s += self.idx2alpha[self.cur_f[c]]\n",
    "        return s\n",
    "\n",
    "\n",
    "    def accuracy(self, answer):\n",
    "        s = 0\n",
    "        assert len(self.ciphertext)==len(answer), \"answer length not align\"\n",
    "        for c in range(len(self.ciphertext)):\n",
    "            if (self.idx2alpha[self.cur_f[self.ciphertext[c]]]==answer[c]):\n",
    "                s += 1\n",
    "#         print(\"Accuracy {}/{}\".format(s, len(self.ciphertext)))\n",
    "        return s\n",
    "        \n",
    "    def checkvalid(self, content):\n",
    "        transition = collections.Counter()\n",
    "        for i in self.alphabet:\n",
    "            transition[i] = collections.Counter()\n",
    "        for i in range(1, len(content), 1): #including /n\n",
    "            transition[content[i-1]][content[i]] += 1\n",
    "        \n",
    "        valid = False\n",
    "        \n",
    "        notrepeat = [] # ' ' & '.'\n",
    "        for a in self.alphabet:\n",
    "            if(transition[a][a]==0):\n",
    "                notrepeat.append(a)\n",
    "                \n",
    "        set1 = [] # \" \"\n",
    "        set2 = [] # \".\"\n",
    "        for a in notrepeat:\n",
    "            if(len(transition[a])==0):\n",
    "                set2.append(a)\n",
    "            elif(len(transition[a])==1 and list(transition[a].keys())[0] in notrepeat):\n",
    "                set1.append(list(transition[a].keys())[0])\n",
    "                set2.append(a)\n",
    "                \n",
    "        if(len(transition)==28): # All the char have occurred. So we must have a \". \" pair.\n",
    "            return set2, set1\n",
    "        else:\n",
    "            return set2, notrepeat\n",
    "    \n",
    "    def run(self, runningtime=30, printacc=True):\n",
    "        n = len(self.ciphertext)\n",
    "        start_time = time.time()\n",
    "        loglikelihood = []\n",
    "        times = []\n",
    "        acc = []\n",
    "        accepted = []\n",
    "        t = 0\n",
    "        while(time.time()-start_time<runningtime):\n",
    "            t += 1\n",
    "            f2 = self.generate_f(self.cur_f, self.set1, self.set2)\n",
    "            pf2 = self.Pf(f2)\n",
    "            pf1 = self.Pf(self.cur_f)\n",
    "            rand = random.random()\n",
    "            if pf1==\"not exist\" and pf2==\"not exist\":\n",
    "                if random.random()<0.5:\n",
    "                    accepted.append(True)\n",
    "                    self.cur_f= f2\n",
    "                else:\n",
    "                    accepted.append(False)\n",
    "            elif pf1==\"not exist\":\n",
    "                accepted.append(True)\n",
    "                self.cur_f = f2\n",
    "            elif pf2==\"not exist\":\n",
    "                accepted.append(False)\n",
    "                pass\n",
    "            \n",
    "            elif rand<min(1, np.exp(pf2-pf1)):\n",
    "                self.cur_f = f2\n",
    "                accepted.append(True)\n",
    "                \n",
    "            else:\n",
    "                accepted.append(False)\n",
    "                \n",
    "    \n",
    "            if self.Pf(self.cur_f) != \"not exist\":\n",
    "                times.append(t)\n",
    "                loglikelihood.append(self.Pf(self.cur_f))\n",
    "                acc.append(self.accuracy(self.answer)/len(self.ciphertext))\n",
    "            else:\n",
    "                times.append(math.nan)\n",
    "                loglikelihood.append(math.nan)\n",
    "                acc.append(math.nan)\n",
    "                \n",
    "            if printacc:\n",
    "                if (t%500==0):\n",
    "                    print(\"Accuracy {}/{}, Log-Liklihood {}, time {} ({}/{})\".format(self.accuracy(self.answer), len(self.answer), self.Pf(self.cur_f), time.time()-start_time, t, n))\n",
    "        return times, loglikelihood, acc, accepted"
   ]
  },
  {
   "cell_type": "code",
   "execution_count": 104,
   "metadata": {
    "ExecuteTime": {
     "end_time": "2019-05-07T22:39:27.526164Z",
     "start_time": "2019-05-07T22:38:57.513878Z"
    }
   },
   "outputs": [
    {
     "name": "stderr",
     "output_type": "stream",
     "text": [
      "/usr/local/lib/python3.7/site-packages/ipykernel_launcher.py:120: RuntimeWarning: overflow encountered in exp\n"
     ]
    },
    {
     "name": "stdout",
     "output_type": "stream",
     "text": [
      "Accuracy 546/1120, Log-Liklihood -3455.4584587472777, time 1.4392330646514893 (500/1120)\n",
      "Accuracy 734/1120, Log-Liklihood -3301.930386570587, time 2.9157588481903076 (1000/1120)\n",
      "Accuracy 816/1120, Log-Liklihood -3047.7576792371815, time 4.504192113876343 (1500/1120)\n",
      "Accuracy 866/1120, Log-Liklihood -2963.5578306528328, time 5.7778260707855225 (2000/1120)\n",
      "Accuracy 1060/1120, Log-Liklihood -2740.858560916313, time 7.053124904632568 (2500/1120)\n",
      "Accuracy 1096/1120, Log-Liklihood -2685.5368009962817, time 8.418115139007568 (3000/1120)\n",
      "Accuracy 1118/1120, Log-Liklihood -2684.1232031838244, time 9.783071041107178 (3500/1120)\n",
      "Accuracy 1118/1120, Log-Liklihood -2684.1232031838244, time 11.050993919372559 (4000/1120)\n",
      "Accuracy 1098/1120, Log-Liklihood -2687.1265271089824, time 12.346785068511963 (4500/1120)\n",
      "Accuracy 1098/1120, Log-Liklihood -2687.1265271089824, time 13.688600063323975 (5000/1120)\n",
      "Accuracy 1118/1120, Log-Liklihood -2684.1232031838244, time 15.040388107299805 (5500/1120)\n",
      "Accuracy 1096/1120, Log-Liklihood -2685.5368009962817, time 16.48638391494751 (6000/1120)\n",
      "Accuracy 1118/1120, Log-Liklihood -2684.1232031838244, time 17.834742069244385 (6500/1120)\n",
      "Accuracy 1118/1120, Log-Liklihood -2684.1232031838244, time 19.121359825134277 (7000/1120)\n",
      "Accuracy 1120/1120, Log-Liklihood -2685.712929296525, time 20.491609811782837 (7500/1120)\n",
      "Accuracy 1118/1120, Log-Liklihood -2684.1232031838244, time 21.78090000152588 (8000/1120)\n",
      "Accuracy 1098/1120, Log-Liklihood -2687.1265271089824, time 23.12757396697998 (8500/1120)\n",
      "Accuracy 1120/1120, Log-Liklihood -2685.712929296525, time 24.500783920288086 (9000/1120)\n",
      "Accuracy 1118/1120, Log-Liklihood -2684.1232031838244, time 25.877228021621704 (9500/1120)\n",
      "Accuracy 1118/1120, Log-Liklihood -2684.1232031838244, time 27.222339153289795 (10000/1120)\n",
      "Accuracy 1118/1120, Log-Liklihood -2684.1232031838244, time 28.7515652179718 (10500/1120)\n"
     ]
    }
   ],
   "source": [
    "random.seed(21)\n",
    "mcmc1 = MCMC(ciphertext=ciphertext[:1119+1], answer=plaintext[:1119+1])\n",
    "times, loglikelihood, acc, accepted = mcmc1.run(30)\n",
    "single_f1 = mcmc1.cur_f"
   ]
  },
  {
   "cell_type": "code",
   "execution_count": 53,
   "metadata": {
    "ExecuteTime": {
     "end_time": "2019-05-07T21:33:19.872442Z",
     "start_time": "2019-05-07T21:33:19.861633Z"
    }
   },
   "outputs": [
    {
     "data": {
      "text/plain": [
       "'chapter i well prince so genoa and lucca are now just family estates of the buonapartes. but i warn you if you dont tell me that this means war if you still try to defend the infamies and horrors perpetrated by that antichristi really belieke he is antichristi will hake nothing more to do with you and you are no longer my friend no longer my faithful slake as you call yourself but how do you do i see i hake frightened yousit down and tell me all the news. it was in july and the speaver was the wellvnown anna paklokna scherer maid of honor and fakorite of the empress marya fedorokna. with these words she greeted prince kasili vuragin a man of high ranv and importance who was the first to arrike at her reception. anna paklokna had had a cough for some days. she was as she said suffering from la grippe grippe being then a new word in st. petersburg used only by the elite. all her inkitations without exception written in french and delikered by a scarletlikeried footman that morning ran as follows if you hake nothing better to do count or prince and if the prospect of spending an ekening with a poor inkalid'"
      ]
     },
     "execution_count": 53,
     "metadata": {},
     "output_type": "execute_result"
    }
   ],
   "source": [
    "mcmc1.decode()"
   ]
  },
  {
   "cell_type": "code",
   "execution_count": 56,
   "metadata": {
    "ExecuteTime": {
     "end_time": "2019-05-07T21:34:28.256300Z",
     "start_time": "2019-05-07T21:34:08.916836Z"
    }
   },
   "outputs": [
    {
     "name": "stdout",
     "output_type": "stream",
     "text": [
      "Accuracy 311/4150, Log-Liklihood not exist, time 0.002104043960571289 (0/5000)\n"
     ]
    },
    {
     "name": "stderr",
     "output_type": "stream",
     "text": [
      "/usr/local/lib/python3.7/site-packages/ipykernel_launcher.py:122: RuntimeWarning: overflow encountered in exp\n"
     ]
    },
    {
     "name": "stdout",
     "output_type": "stream",
     "text": [
      "Accuracy 3357/4150, Log-Liklihood -11451.902934245694, time 2.0423688888549805 (500/5000)\n",
      "Accuracy 3828/4150, Log-Liklihood -10074.757654918645, time 3.9716427326202393 (1000/5000)\n",
      "Accuracy 4147/4150, Log-Liklihood -9832.509696653211, time 5.8404059410095215 (1500/5000)\n",
      "Accuracy 4147/4150, Log-Liklihood -9832.509696653211, time 7.812578916549683 (2000/5000)\n",
      "Accuracy 4147/4150, Log-Liklihood -9832.509696653211, time 9.73538875579834 (2500/5000)\n",
      "Accuracy 4147/4150, Log-Liklihood -9832.509696653211, time 11.669350862503052 (3000/5000)\n",
      "Accuracy 4147/4150, Log-Liklihood -9832.509696653211, time 13.603855848312378 (3500/5000)\n",
      "Accuracy 4147/4150, Log-Liklihood -9832.509696653211, time 15.4690260887146 (4000/5000)\n",
      "Accuracy 4147/4150, Log-Liklihood -9832.509696653211, time 17.398634910583496 (4500/5000)\n"
     ]
    }
   ],
   "source": [
    "random.seed(21)\n",
    "mcmc2 = MCMC(ciphertext=ciphertext[1137:], answer=plaintext[1137:])\n",
    "times, loglikelihood, acc, accepted = mcmc2.run()\n",
    "single_f2 = mcmc2.cur_f"
   ]
  },
  {
   "cell_type": "code",
   "execution_count": 57,
   "metadata": {
    "ExecuteTime": {
     "end_time": "2019-05-07T21:34:29.111763Z",
     "start_time": "2019-05-07T21:34:29.100876Z"
    }
   },
   "outputs": [
    {
     "data": {
      "text/plain": [
       "'ble i shall be very charmed to see you tonight between and annette scherer. heavens what a virulent attack replied the prince not in the least disconcerted by this reception. he had qust entered wearing an embroidered court uniform knee breeches and shoes and had stars on his breast and a serene expression on his flat face. he spoke in that refined french in which our grandfathers not only spoke but thought and with the gentle patronizing intonation natural to a man of importance who had grown old in society and at court. he went up to anna pavlovna kissed her hand presenting to her his bald scented and shining head and complacently seated himself on the sofa. first of all dear friend tell me how you are. set your friends mind at rest said he without altering his tone beneath the politeness and affected sympathy of which indifference and even irony could be discerned. can one be well while suffering morally can one be calm in times like these if one has any feeling said anna pavlovna. you are staying the whole evening i hope and the fete at the english ambassadors today is wednesday. i must put in an appearance there said the prince. my daughter is coming for me to take me there. i thought todays fete had been canceled. i confess all these festivities and fireworks are becoming wearisome. if they had known that you wished it the entertainment would have been put off said the prince who like a woundup clock by force of habit said things he did not even wish to be believed. dont tease well and what has been decided about novosiltsevs dispatch you know everything. what can one say about it replied the prince in a cold listless tone. what has been decided they have decided that buonaparte has burnt his boats and i believe that we are ready to burn ours. prince vasili always spoke languidly like an actor repeating a stale part. anna pavlovna scherer on the contrary despite her forty years overflowed with animation and impulsiveness. to be an enthusiast had become her social vocation and sometimes even when she did not feel like it she became enthusiastic in order not to disappoint the expectations of those who knew her. the subdued smile which though it did not suit her faded features always played round her lips expressed as in a spoiled child a continual consciousness of her charming defect which she neither wished nor could nor considered it necessary to correct. in the midst of a conversation on political matters anna pavlovna burst out oh dont speak to me of austria. perhaps i dont understand things but austria never has wished and does not wish for war. she is betraying us russia alone must save europe. our gracious sovereign recognizes his high vocation and will be true to it. that is the one thing i have faith in our good and wonderful sovereign has to perform the noblest role on earth and he is so virtuous and noble that god will not forsake him. he will fulfill his vocation and crush the hydra of revolution which has become more terrible than ever in the person of this murderer and villain we alone must avenge the blood of the qust one. whom i ask you can we rely on. england with her commercial spirit will not and cannot understand the emperor alexanders loftiness of soul. she has refused to evacuate malta. she wanted to find and still seeks some secret motive in our actions. what answer did novosiltsev get none. the english have not understood and cannot understand the selfabnegation of our emperor who wants nothing for himself but only desires the good of mankind. and what have they promised nothing and what little they have promised they will not perform prussia has always declared that buonaparte is invincible and that all europe is powerless before him. and i dont believe a word that hardenburg says or haugwitz either. this famous prussian neutrality is qust a trap. i have faith only in god and the lofty destiny of our adored monarch. he will save europe she suddenly paused smiling at her own impetuosity. i think said the prince with a smile that if you had been sent instead of our dear wintzingerode you would have captured the king of prussias consent by assault.'"
      ]
     },
     "execution_count": 57,
     "metadata": {},
     "output_type": "execute_result"
    }
   ],
   "source": [
    "mcmc2.decode()"
   ]
  },
  {
   "cell_type": "markdown",
   "metadata": {},
   "source": [
    "# MCMC B"
   ]
  },
  {
   "cell_type": "code",
   "execution_count": 89,
   "metadata": {
    "ExecuteTime": {
     "end_time": "2019-05-07T21:54:51.355998Z",
     "start_time": "2019-05-07T21:54:51.214848Z"
    },
    "code_folding": []
   },
   "outputs": [],
   "source": [
    "class MCMC_B:\n",
    "    def __init__(self, ciphertext, answer, f1=None, f2=None):\n",
    "        self.answer = answer\n",
    "        alphabet = ['a', 'b', 'c', 'd', 'e', 'f', 'g', 'h', 'i', 'j', 'k', 'l', 'm', 'n', 'o', 'p', 'q', 'r', 's', 't', 'u', 'v', 'w', 'x', 'y', 'z', ' ', '.']\n",
    "        self.idx2alpha = dict(zip(range(28), alphabet))\n",
    "        self.alphabet = alphabet\n",
    "        self.ciphertext_transition = collections.Counter()\n",
    "        for a in self.alphabet:\n",
    "            self.ciphertext_transition[a] = collections.Counter()\n",
    "        for i in range(1, len(ciphertext), 1): #including /n\n",
    "            self.ciphertext_transition[ciphertext[i]][ciphertext[i-1]] += 1\n",
    "        self.ciphertext = ciphertext\n",
    "        \n",
    "        self.cur_f1 = f1\n",
    "        self.cur_f2 = f2\n",
    "        \n",
    "        if(self.cur_f1==None or self.cur_f2==None):\n",
    "            if(self.cur_f1==None):\n",
    "                random.shuffle(alphabet)\n",
    "                self.cur_f1 = dict(zip(alphabet, range(28)))\n",
    "            if(self.cur_f2==None):\n",
    "                random.shuffle(alphabet)\n",
    "                self.cur_f2 = dict(zip(alphabet, range(28)))\n",
    "            self.cur_f1, self.cur_f2, self.breakpoint = self.generate_f()\n",
    "            \n",
    "        l = 0\n",
    "        r = len(self.ciphertext)-1\n",
    "        # [minb, maxb]\n",
    "        # determining the maximum x such that ciphertext[:x] valid\n",
    "        while(l<=r):\n",
    "            m = int(l + (r - l)/2)\n",
    "            a, b = self.checkvalid(self.ciphertext[m:])\n",
    "            if(len(a)>0 and len(b)>1):\n",
    "                r = m - 1\n",
    "            else:\n",
    "                l = m + 1\n",
    "        self.minbs = l\n",
    "        self.leftsets = self.checkvalid(self.ciphertext[:self.minbs])\n",
    "        \n",
    "        l = 0\n",
    "        r = len(self.ciphertext)-1\n",
    "        # [minb, maxb]\n",
    "        # determining the minimum x such that ciphertext[x:] valid\n",
    "        while(l<=r):\n",
    "            m = int(l + (r - l)/2)\n",
    "            a, b = self.checkvalid(self.ciphertext[:m])\n",
    "            if(len(a)>0 and len(b)>1):\n",
    "                l = m + 1\n",
    "            else:\n",
    "                r = m - 1\n",
    "        self.maxbs = r\n",
    "        self.rightsets = self.checkvalid(self.ciphertext[self.maxbs:])\n",
    "        \n",
    "        self.breakpoint = random.randint(self.minbs, self.maxbs+1)\n",
    "        \n",
    "        print(\"Breakpoints\", self.minbs, self.maxbs)\n",
    "        print(self.leftsets)\n",
    "        print(self.rightsets)\n",
    "        \n",
    "        \n",
    "        \n",
    "    def Pf(self, code2idx1, code2idx2, breakpoint):\n",
    "        logPf1 = logP[code2idx1[ciphertext[0]]]\n",
    "        for idx in range(1, breakpoint, 1):\n",
    "            if logM[code2idx1[self.ciphertext[idx]], code2idx1[self.ciphertext[idx-1]]] == -float('inf'):\n",
    "                logPf1 = \"not exist\"\n",
    "                break\n",
    "            else:\n",
    "                logPf1 += logM[code2idx1[self.ciphertext[idx]], code2idx1[self.ciphertext[idx-1]]]\n",
    "\n",
    "        logPf2 = logP[code2idx2[ciphertext[breakpoint]]]\n",
    "        for idx in range(breakpoint+1, len(self.ciphertext), 1):\n",
    "            if logM[code2idx2[self.ciphertext[idx]], code2idx2[self.ciphertext[idx-1]]] == -float('inf'):\n",
    "                logPf2 = \"not exist\"\n",
    "                break\n",
    "            else:\n",
    "                logPf2 += logM[code2idx2[self.ciphertext[idx]], code2idx2[self.ciphertext[idx-1]]]\n",
    "        return logPf1, logPf2\n",
    "    \n",
    "    def generate_f(self):\n",
    "        new_b = int(np.random.normal(loc=self.breakpoint, scale=10))\n",
    "        new_b = max(new_b, self.minbs)\n",
    "        new_b = min(new_b, self.maxbs)\n",
    "        \n",
    "        a, b = random.sample(self.alphabet, 2)\n",
    "        new_f1 = self.cur_f1.copy()\n",
    "        new_f1[a] = self.cur_f1[b]\n",
    "        new_f1[b] = self.cur_f1[a]\n",
    "\n",
    "        new_f2 = self.cur_f2.copy()\n",
    "        new_f2[a] = self.cur_f2[b]\n",
    "        new_f2[b] = self.cur_f2[a]\n",
    "\n",
    "\n",
    "#         new_b = random.randint(max(self.minbs, self.breakpoint-10), min(self.maxbs, self.breakpoint+10))\n",
    "\n",
    "        for i, v in new_f1.items():\n",
    "            if(v==27 and i not in self.leftsets[0]):\n",
    "                candidate = random.sample(self.leftsets[0], k=1)[0]\n",
    "                tmp = new_f1[i]\n",
    "                new_f1[i] = new_f1[candidate]\n",
    "                new_f1[candidate] = tmp\n",
    "            if(v==26 and i not in self.leftsets[1]):\n",
    "                candidate = random.sample(self.leftsets[1], k=1)[0]\n",
    "                tmp = new_f1[i]\n",
    "                new_f1[i] = new_f1[candidate]\n",
    "                new_f1[candidate] = tmp\n",
    "        for i, v in new_f2.items():\n",
    "            if(v==27 and i not in self.rightsets[0]):\n",
    "                candidate = random.sample(self.rightsets[0], k=1)[0]\n",
    "                tmp = new_f1[i]\n",
    "                new_f1[i] = new_f1[candidate]\n",
    "                new_f1[candidate] = tmp\n",
    "            if(v==26 and i not in self.rightsets[1]):\n",
    "                candidate = random.sample(self.rightsets[1], k=1)[0]\n",
    "                tmp = new_f1[i]\n",
    "                new_f1[i] = new_f1[candidate]\n",
    "                new_f1[candidate] = tmp\n",
    "        return new_f1, new_f2, new_b\n",
    "\n",
    "    def checkvalid(self, content):\n",
    "        transition = collections.Counter()\n",
    "        for i in self.alphabet:\n",
    "            transition[i] = collections.Counter()\n",
    "        for i in range(1, len(content), 1): #including /n\n",
    "            transition[content[i-1]][content[i]] += 1\n",
    "        \n",
    "        valid = False\n",
    "        \n",
    "        notrepeat = [] # ' ' & '.'\n",
    "        for a in self.alphabet:\n",
    "            if(transition[a][a]==0):\n",
    "                notrepeat.append(a)\n",
    "                \n",
    "        set1 = [] # \" \"\n",
    "        set2 = [] # \".\"\n",
    "        for a in notrepeat:\n",
    "            if(len(transition[a])==0):\n",
    "                set2.append(a)\n",
    "            elif(len(transition[a])==1 and list(transition[a].keys())[0] in notrepeat):\n",
    "                set1.append(list(transition[a].keys())[0])\n",
    "                set2.append(a)\n",
    "                \n",
    "        if(len(transition)==28): # All the char have occurred. So we must have a \". \" pair.\n",
    "            return set2, set1\n",
    "        else:\n",
    "            return set2, notrepeat\n",
    "    \n",
    "\n",
    "            \n",
    "    \n",
    "    def decode(self):\n",
    "        s = \"\"\n",
    "        for c in range(self.breakpoint):\n",
    "            s += self.idx2alpha[self.cur_f1[self.ciphertext[c]]]\n",
    "        for c in range(self.breakpoint, len(self.ciphertext), 1):\n",
    "            s += self.idx2alpha[self.cur_f2[self.ciphertext[c]]]\n",
    "        return s\n",
    "    \n",
    "    def accuracy(self, answer):\n",
    "        s = 0\n",
    "        assert len(self.ciphertext)==len(answer), \"answer length not align\"\n",
    "        for c in range(self.breakpoint):\n",
    "            if (self.idx2alpha[self.cur_f1[self.ciphertext[c]]]==answer[c]):\n",
    "                s += 1\n",
    "        for c in range(self.breakpoint, len(self.ciphertext), 1):\n",
    "            if (self.idx2alpha[self.cur_f2[self.ciphertext[c]]]==answer[c]):\n",
    "                s += 1\n",
    "#         print(\"Accuracy {}/{}\".format(s, len(self.ciphertext)))\n",
    "        return s\n",
    "        \n",
    "    def accept(self, newscore, oldscore):\n",
    "        accept_bool = False\n",
    "        if newscore == \"not exist\" and oldscore == \"not exist\":\n",
    "            if random.random()<0.5:\n",
    "                accept_bool = True\n",
    "        elif oldscore == \"not exist\":\n",
    "            accept_bool = True\n",
    "        elif newscore == \"not exist\":\n",
    "            pass\n",
    "        elif (newscore-oldscore) > 5: # speed up for np.exp\n",
    "            accept_bool = True\n",
    "        elif random.random()<min(1, np.exp(newscore-oldscore)):\n",
    "            accept_bool = True\n",
    "        return accept_bool\n",
    "                \n",
    "        \n",
    "        \n",
    "    def run(self, n=5000, printacc=True):\n",
    "        start_time = time.time()\n",
    "        loglikelihood = []\n",
    "        times = []\n",
    "        acc = []\n",
    "        accepted = []\n",
    "        for t in range(n):\n",
    "            new_f1, new_f2, new_b = self.generate_f()\n",
    "            pfnew_f1, pfnew_f2 = self.Pf(new_f1, new_f2, new_b)\n",
    "            pfold_f1, pfold_f2 = self.Pf(self.cur_f1, self.cur_f2, self.breakpoint)\n",
    "            \n",
    "                \n",
    "            if self.accept(newscore=pfnew_f1, oldscore=pfold_f1):\n",
    "                self.cur_f1 = new_f1\n",
    "            if self.accept(newscore=pfnew_f2, oldscore=pfold_f2):\n",
    "                self.cur_f2 = new_f2\n",
    "                \n",
    "            if pfnew_f1 == \"not exist\" or pfnew_f2 == \"not exist\":\n",
    "                pfnew_b = \"not exist\"\n",
    "            else:\n",
    "                pfnew_b = pfnew_f1 * pfnew_f2\n",
    "            if pfold_f1 == \"not exist\" or pfold_f2 == \"not exist\":\n",
    "                pfold_b = \"not exist\"\n",
    "            else:\n",
    "                pfold_b = pfold_f1 * pfold_f2\n",
    "            if self.accept(newscore=pfnew_b, oldscore=pfold_b):\n",
    "                self.breakpoint = new_b\n",
    "    \n",
    "            if self.Pf(self.cur_f1, self.cur_f2, self.breakpoint) != \"not exist\":\n",
    "                times.append(t)\n",
    "                loglikelihood.append(self.Pf(self.cur_f1, self.cur_f2, self.breakpoint))\n",
    "                acc.append(self.accuracy(self.answer)/len(self.ciphertext))\n",
    "            else:\n",
    "                times.append(math.nan)\n",
    "                loglikelihood.append(math.nan)\n",
    "                acc.append(math.nan)\n",
    "                \n",
    "            if printacc:\n",
    "                if ((t+1)%500==0):\n",
    "                    print(self.breakpoint)\n",
    "                    print(self.cur_f1)\n",
    "                    print(self.cur_f2)\n",
    "                    print(\"Accuracy {}/{}, Log-Liklihood {}, time {} ({}/{})\".format(self.accuracy(self.answer), len(self.answer), self.Pf(self.cur_f1, self.cur_f2, self.breakpoint), time.time()-start_time, t+1, n))\n",
    "        return times, loglikelihood, acc, accepted"
   ]
  },
  {
   "cell_type": "code",
   "execution_count": 90,
   "metadata": {
    "ExecuteTime": {
     "end_time": "2019-05-07T21:55:47.627234Z",
     "start_time": "2019-05-07T21:54:51.721764Z"
    },
    "code_folding": []
   },
   "outputs": [
    {
     "name": "stdout",
     "output_type": "stream",
     "text": [
      "Breakpoints 1119 1137\n",
      "(['b', 'e', 'f', 'y'], ['u', 'z'])\n",
      "(['d', 'o', 'q'], ['j', 'a'])\n",
      "1119\n",
      "{'d': 8, 't': 13, 'e': 16, 'o': 3, 'l': 15, 'i': 5, 'k': 12, 'c': 4, 'b': 25, 'x': 24, 'z': 26, 'r': 1, 'y': 27, 'a': 23, 'm': 11, 'h': 0, 's': 9, '.': 10, 'q': 6, 'v': 14, 'g': 19, 'p': 22, 'j': 18, 'u': 20, ' ': 17, 'w': 7, 'n': 2, 'f': 21}\n",
      "{'d': 16, 't': 2, 'e': 8, 'o': 27, 'l': 23, 'i': 24, 'k': 17, 'c': 0, 'b': 13, 'x': 18, 'z': 11, 'r': 6, 'y': 12, 'a': 26, 'm': 14, 'h': 5, 's': 15, '.': 19, 'q': 9, 'v': 7, 'g': 3, 'p': 10, 'j': 20, 'u': 4, ' ': 21, 'w': 25, 'n': 1, 'f': 22}\n",
      "Accuracy 5198/5287, Log-Liklihood (-2742.80689194385, -9908.87325267249), time 14.390286922454834 (500/2000)\n",
      "1129\n",
      "{'d': 8, 't': 13, 'e': 16, 'o': 6, 'l': 5, 'i': 15, 'k': 22, 'c': 4, 'b': 25, 'x': 24, 'z': 26, 'r': 1, 'y': 27, 'a': 23, 'm': 11, 'h': 0, 's': 21, '.': 10, 'q': 3, 'v': 14, 'g': 19, 'p': 12, 'j': 18, 'u': 20, ' ': 17, 'w': 7, 'n': 2, 'f': 9}\n",
      "{'d': 16, 't': 2, 'e': 8, 'o': 27, 'l': 9, 'i': 24, 'k': 17, 'c': 0, 'b': 13, 'x': 18, 'z': 11, 'r': 6, 'y': 12, 'a': 26, 'm': 14, 'h': 5, 's': 15, '.': 19, 'q': 23, 'v': 7, 'g': 3, 'p': 10, 'j': 20, 'u': 4, ' ': 21, 'w': 25, 'n': 1, 'f': 22}\n",
      "Accuracy 5165/5287, Log-Liklihood (-2785.979418735283, -9896.10647564558), time 27.618978261947632 (1000/2000)\n",
      "1119\n",
      "{'d': 8, 't': 13, 'e': 25, 'o': 6, 'l': 15, 'i': 5, 'k': 12, 'c': 4, 'b': 16, 'x': 24, 'z': 26, 'r': 21, 'y': 27, 'a': 23, 'm': 11, 'h': 0, 's': 10, '.': 1, 'q': 3, 'v': 14, 'g': 19, 'p': 22, 'j': 18, 'u': 20, ' ': 17, 'w': 7, 'n': 2, 'f': 9}\n",
      "{'d': 16, 't': 2, 'e': 8, 'o': 27, 'l': 25, 'i': 24, 'k': 17, 'c': 0, 'b': 13, 'x': 18, 'z': 11, 'r': 6, 'y': 12, 'a': 26, 'm': 14, 'h': 5, 's': 15, '.': 19, 'q': 9, 'v': 7, 'g': 3, 'p': 10, 'j': 20, 'u': 4, ' ': 21, 'w': 23, 'n': 1, 'f': 22}\n",
      "Accuracy 5236/5287, Log-Liklihood (-2746.347097827063, -9961.398042626868), time 41.23586893081665 (1500/2000)\n",
      "1131\n",
      "{'d': 8, 't': 13, 'e': 9, 'o': 6, 'l': 15, 'i': 5, 'k': 12, 'c': 4, 'b': 1, 'x': 24, 'z': 26, 'r': 21, 'y': 27, 'a': 23, 'm': 11, 'h': 0, 's': 16, '.': 10, 'q': 3, 'v': 14, 'g': 19, 'p': 22, 'j': 18, 'u': 20, ' ': 17, 'w': 7, 'n': 2, 'f': 25}\n",
      "{'d': 16, 't': 2, 'e': 8, 'o': 27, 'l': 23, 'i': 24, 'k': 17, 'c': 0, 'b': 13, 'x': 18, 'z': 11, 'r': 6, 'y': 12, 'a': 26, 'm': 14, 'h': 5, 's': 15, '.': 19, 'q': 25, 'v': 7, 'g': 3, 'p': 10, 'j': 20, 'u': 4, ' ': 21, 'w': 9, 'n': 1, 'f': 22}\n",
      "Accuracy 5246/5287, Log-Liklihood (-2777.8974685961393, -9872.743002689933), time 55.820863008499146 (2000/2000)\n"
     ]
    }
   ],
   "source": [
    "random.seed(21)\n",
    "mcmc = MCMC_B(ciphertext=ciphertext, answer=plaintext, f1=single_f1, f2=single_f2)\n",
    "# mcmc.checkvalid(ciphertext[:1120])\n",
    "times, loglikelihood, acc, accepted = mcmc.run(n=2000)"
   ]
  },
  {
   "cell_type": "code",
   "execution_count": 91,
   "metadata": {
    "ExecuteTime": {
     "end_time": "2019-05-07T21:56:09.152848Z",
     "start_time": "2019-05-07T21:56:09.140572Z"
    },
    "code_folding": [],
    "scrolled": false
   },
   "outputs": [
    {
     "name": "stdout",
     "output_type": "stream",
     "text": [
      "1131\n"
     ]
    },
    {
     "data": {
      "text/plain": [
       "'chapter i well prince so genoa and lucca are now just family estates of the vuonapartes. vut i warn you if you dont tell me that this means war if you still try to defend the infamies and horrors perpetrated vy that antichristi really velieke he is antichristi will hake nothing more to do with you and you are no longer my friend no longer my faithful slake as you call yourself vut how do you do i see i hake frightened yousit down and tell me all the news. it was in july and the speaqer was the wellqnown anna paklokna scherer maid of honor and fakorite of the empress marya fedorokna. with these words she greeted prince kasili quragin a man of high ranq and importance who was the first to arrike at her reception. anna paklokna had had a cough for some days. she was as she said suffering from la grippe grippe veing then a new word in st. petersvurg used only vy the elite. all her inkitations without exception written in french and delikered vy a scarletlikeried footman that morning ran as follows if you hake nothing vetter to do count or prince and if the prospect of spending an ekening with a poor inkalid is not tll terrible i shall be very charmed to see you tonight between and annette scherer. heavens what a virulent attack replied the prince not in the least disconcerted by this reception. he had qust entered wearing an embroidered court uniform knee breeches and shoes and had stars on his breast and a serene expression on his flat face. he spoke in that refined french in which our grandfathers not only spoke but thought and with the gentle patronijing intonation natural to a man of importance who had grown old in society and at court. he went up to anna pavlovna kissed her hand presenting to her his bald scented and shining head and complacently seated himself on the sofa. first of all dear friend tell me how you are. set your friends mind at rest said he without altering his tone beneath the politeness and affected sympathy of which indifference and even irony could be discerned. can one be well while suffering morally can one be calm in times like these if one has any feeling said anna pavlovna. you are staying the whole evening i hope and the fete at the english ambassadors today is wednesday. i must put in an appearance there said the prince. my daughter is coming for me to take me there. i thought todays fete had been canceled. i confess all these festivities and fireworks are becoming wearisome. if they had known that you wished it the entertainment would have been put off said the prince who like a woundup clock by force of habit said things he did not even wish to be believed. dont tease well and what has been decided about novosiltsevs dispatch you know everything. what can one say about it replied the prince in a cold listless tone. what has been decided they have decided that buonaparte has burnt his boats and i believe that we are ready to burn ours. prince vasili always spoke languidly like an actor repeating a stale part. anna pavlovna scherer on the contrary despite her forty years overflowed with animation and impulsiveness. to be an enthusiast had become her social vocation and sometimes even when she did not feel like it she became enthusiastic in order not to disappoint the expectations of those who knew her. the subdued smile which though it did not suit her faded features always played round her lips expressed as in a spoiled child a continual consciousness of her charming defect which she neither wished nor could nor considered it necessary to correct. in the midst of a conversation on political matters anna pavlovna burst out oh dont speak to me of austria. perhaps i dont understand things but austria never has wished and does not wish for war. she is betraying us russia alone must save europe. our gracious sovereign recognijes his high vocation and will be true to it. that is the one thing i have faith in our good and wonderful sovereign has to perform the noblest role on earth and he is so virtuous and noble that god will not forsake him. he will fulfill his vocation and crush the hydra of revolution which has become more terrible than ever in the person of this murderer and villain we alone must avenge the blood of the qust one. whom i ask you can we rely on. england with her commercial spirit will not and cannot understand the emperor alexanders loftiness of soul. she has refused to evacuate malta. she wanted to find and still seeks some secret motive in our actions. what answer did novosiltsev get none. the english have not understood and cannot understand the selfabnegation of our emperor who wants nothing for himself but only desires the good of mankind. and what have they promised nothing and what little they have promised they will not perform prussia has always declared that buonaparte is invincible and that all europe is powerless before him. and i dont believe a word that hardenburg says or haugwitj either. this famous prussian neutrality is qust a trap. i have faith only in god and the lofty destiny of our adored monarch. he will save europe she suddenly paused smiling at her own impetuosity. i think said the prince with a smile that if you had been sent instead of our dear wintjingerode you would have captured the king of prussias consent by assault.'"
      ]
     },
     "execution_count": 91,
     "metadata": {},
     "output_type": "execute_result"
    }
   ],
   "source": [
    "print(mcmc.breakpoint)\n",
    "mcmc.decode()"
   ]
  }
 ],
 "metadata": {
  "kernelspec": {
   "display_name": "Python 3",
   "language": "python",
   "name": "python3"
  },
  "language_info": {
   "codemirror_mode": {
    "name": "ipython",
    "version": 3
   },
   "file_extension": ".py",
   "mimetype": "text/x-python",
   "name": "python",
   "nbconvert_exporter": "python",
   "pygments_lexer": "ipython3",
   "version": "3.7.2"
  },
  "toc": {
   "base_numbering": 1,
   "nav_menu": {},
   "number_sections": true,
   "sideBar": true,
   "skip_h1_title": false,
   "title_cell": "Table of Contents",
   "title_sidebar": "Contents",
   "toc_cell": false,
   "toc_position": {},
   "toc_section_display": true,
   "toc_window_display": true
  },
  "varInspector": {
   "cols": {
    "lenName": 16,
    "lenType": 16,
    "lenVar": 40
   },
   "kernels_config": {
    "python": {
     "delete_cmd_postfix": "",
     "delete_cmd_prefix": "del ",
     "library": "var_list.py",
     "varRefreshCmd": "print(var_dic_list())"
    },
    "r": {
     "delete_cmd_postfix": ") ",
     "delete_cmd_prefix": "rm(",
     "library": "var_list.r",
     "varRefreshCmd": "cat(var_dic_list()) "
    }
   },
   "types_to_exclude": [
    "module",
    "function",
    "builtin_function_or_method",
    "instance",
    "_Feature"
   ],
   "window_display": false
  }
 },
 "nbformat": 4,
 "nbformat_minor": 2
}
