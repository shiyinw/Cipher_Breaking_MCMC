{
 "cells": [
  {
   "cell_type": "markdown",
   "metadata": {},
   "source": [
    "# Import Packages"
   ]
  },
  {
   "cell_type": "code",
   "execution_count": 2,
   "metadata": {
    "ExecuteTime": {
     "end_time": "2019-05-07T20:54:01.757855Z",
     "start_time": "2019-05-07T20:54:00.186044Z"
    }
   },
   "outputs": [],
   "source": [
    "import numpy as np\n",
    "import pandas as pd\n",
    "import math, random, time, collections\n",
    "from multiprocessing import Pool\n",
    "import seaborn as sns\n",
    "import matplotlib.pyplot as plt\n",
    "sns.set_style(\"whitegrid\")"
   ]
  },
  {
   "cell_type": "markdown",
   "metadata": {},
   "source": [
    "# Load Data"
   ]
  },
  {
   "cell_type": "code",
   "execution_count": 3,
   "metadata": {
    "ExecuteTime": {
     "end_time": "2019-05-07T20:54:02.267050Z",
     "start_time": "2019-05-07T20:54:01.821359Z"
    }
   },
   "outputs": [
    {
     "name": "stderr",
     "output_type": "stream",
     "text": [
      "/usr/local/lib/python3.7/site-packages/ipykernel_launcher.py:7: RuntimeWarning: divide by zero encountered in log\n",
      "  import sys\n"
     ]
    },
    {
     "data": {
      "text/plain": [
       "array([[-7.59194026e+00, -2.89299973e+00, -2.17549895e+00,\n",
       "        -3.49855064e+00, -2.99697269e+00, -2.54987967e+00,\n",
       "        -2.82267338e+00, -1.66122011e+00, -4.22674479e+00,\n",
       "        -1.84785152e+00, -5.35003032e+00, -2.65528918e+00,\n",
       "        -2.01913908e+00, -4.16613992e+00, -5.35959565e+00,\n",
       "        -2.12351787e+00, -1.15132054e+01, -2.90719212e+00,\n",
       "        -3.03105539e+00, -3.43618301e+00, -3.79286356e+00,\n",
       "        -2.95199279e+00, -1.47911769e+00, -2.62686131e+00,\n",
       "        -5.39406784e+00, -9.61980418e-01, -2.16234487e+00,\n",
       "                   -inf],\n",
       "       [-3.82959090e+00, -5.27966213e+00, -9.64788505e+00,\n",
       "        -7.15190272e+00, -6.97328185e+00, -8.77578055e+00,\n",
       "        -6.73087058e+00, -6.30691581e+00, -5.00675794e+00,\n",
       "        -1.15132054e+01, -6.91489851e+00, -7.15825148e+00,\n",
       "        -4.23871185e+00, -7.69657665e+00, -4.85260197e+00,\n",
       "        -6.46864687e+00, -1.15132054e+01, -6.26151812e+00,\n",
       "        -6.55270919e+00, -8.07711467e+00, -4.13872450e+00,\n",
       "        -1.15132054e+01, -4.97532777e+00, -8.29013448e+00,\n",
       "        -5.40479685e+00, -1.15132054e+01, -3.06735388e+00,\n",
       "                   -inf],\n",
       "       [-3.56702898e+00, -1.03077747e+01, -3.87961079e+00,\n",
       "        -8.35569785e+00, -3.94524375e+00, -7.53970576e+00,\n",
       "        -8.20973585e+00, -9.78781467e+00, -3.23172915e+00,\n",
       "        -1.15132054e+01, -7.43598593e+00, -6.63362915e+00,\n",
       "        -8.99151265e+00, -3.29256687e+00, -4.78702437e+00,\n",
       "        -1.03292442e+01, -1.15132054e+01, -4.64902399e+00,\n",
       "        -4.57840815e+00, -5.88272890e+00, -2.91900861e+00,\n",
       "        -1.15132054e+01, -7.18358043e+00, -1.74662418e+00,\n",
       "        -7.36624731e+00, -7.67250472e+00, -3.29272437e+00,\n",
       "                   -inf],\n",
       "       [-2.84036446e+00, -7.37067065e+00, -9.64788505e+00,\n",
       "        -4.58187051e+00, -2.53972924e+00, -7.66840559e+00,\n",
       "        -7.62352380e+00, -8.27391260e+00, -3.18773798e+00,\n",
       "        -1.15132054e+01, -8.24709353e+00, -2.39290707e+00,\n",
       "        -8.36633208e+00, -1.76705488e+00, -4.04814316e+00,\n",
       "        -9.20372777e+00, -1.15132054e+01, -3.57240865e+00,\n",
       "        -7.46872281e+00, -9.57132188e+00, -4.19238317e+00,\n",
       "        -1.15132054e+01, -6.45373367e+00, -8.94422198e+00,\n",
       "        -6.01477965e+00, -1.15132054e+01, -3.49348105e+00,\n",
       "                   -inf],\n",
       "       [-8.78997491e+00, -8.82509567e-01, -1.76131450e+00,\n",
       "        -2.22960892e+00, -3.46018806e+00, -2.37922386e+00,\n",
       "        -2.10069898e+00, -8.39311107e-01, -3.26779725e+00,\n",
       "        -1.27989498e+00, -1.13753942e+00, -1.83647729e+00,\n",
       "        -1.45400802e+00, -2.39342335e+00, -5.95403175e+00,\n",
       "        -1.57546952e+00, -1.15132054e+01, -1.50699262e+00,\n",
       "        -2.17677838e+00, -2.48320288e+00, -3.77180189e+00,\n",
       "        -2.65394693e-01, -1.94221903e+00, -2.51652770e+00,\n",
       "        -3.19682290e+00, -1.08349170e+00, -3.78781471e+00,\n",
       "                   -inf],\n",
       "       [-4.65689575e+00, -1.03077747e+01, -1.15132054e+01,\n",
       "        -6.43410193e+00, -4.66179345e+00, -3.18978100e+00,\n",
       "        -8.27847589e+00, -7.47604878e+00, -3.79727990e+00,\n",
       "        -1.15132054e+01, -4.35731805e+00, -3.57664870e+00,\n",
       "        -5.37865728e+00, -5.11596665e+00, -2.38981271e+00,\n",
       "        -8.83192738e+00, -1.15132054e+01, -4.78591439e+00,\n",
       "        -5.85082063e+00, -6.37823213e+00, -5.45333938e+00,\n",
       "        -1.15132054e+01, -5.19275723e+00, -5.09047807e+00,\n",
       "        -6.58879923e+00, -1.15132054e+01, -3.36765798e+00,\n",
       "                   -inf],\n",
       "       [-3.93577856e+00, -1.15132054e+01, -1.15132054e+01,\n",
       "        -5.19830554e+00, -5.18217339e+00, -9.07660909e+00,\n",
       "        -4.30854800e+00, -9.30759934e+00, -3.59320798e+00,\n",
       "        -1.15132054e+01, -7.14187790e+00, -6.87080683e+00,\n",
       "        -1.06924641e+01, -2.02862304e+00, -5.77145398e+00,\n",
       "        -9.32317128e+00, -1.15132054e+01, -5.05239735e+00,\n",
       "        -6.82117883e+00, -9.73111966e+00, -2.90923835e+00,\n",
       "        -1.15132054e+01, -9.68991741e+00, -8.94422198e+00,\n",
       "        -8.00665270e+00, -1.15132054e+01, -4.13012332e+00,\n",
       "                   -inf],\n",
       "       [-6.75022689e+00, -8.06650715e+00, -1.71959696e+00,\n",
       "        -6.11041033e+00, -6.18995729e+00, -7.89910639e+00,\n",
       "        -1.91218415e+00, -9.16013172e+00, -9.22642174e+00,\n",
       "        -1.15132054e+01, -5.13584056e+00, -8.51825876e+00,\n",
       "        -8.54552990e+00, -6.78786249e+00, -5.71826500e+00,\n",
       "        -4.60911614e+00, -1.15132054e+01, -5.81302053e+00,\n",
       "        -2.52506765e+00, -1.22430478e+00, -1.02533890e+01,\n",
       "        -1.15132054e+01, -1.76682854e+00, -4.54565003e+00,\n",
       "        -7.24596379e+00, -7.67250472e+00, -2.48395061e+00,\n",
       "                   -inf],\n",
       "       [-3.12679175e+00, -3.79957521e+00, -3.18632826e+00,\n",
       "        -2.76811529e+00, -4.38935299e+00, -2.61263707e+00,\n",
       "        -3.09626562e+00, -2.01597211e+00, -8.03284304e+00,\n",
       "        -3.98744197e+00, -1.91005120e+00, -2.17893707e+00,\n",
       "        -2.28974797e+00, -3.66689928e+00, -4.62334381e+00,\n",
       "        -2.91350583e+00, -1.15132054e+01, -2.67805635e+00,\n",
       "        -2.86186205e+00, -2.78063398e+00, -3.50375308e+00,\n",
       "        -2.03622567e+00, -1.76081455e+00, -2.26457772e+00,\n",
       "        -4.23254226e+00, -2.71046033e+00, -2.57953470e+00,\n",
       "                   -inf],\n",
       "       [-9.58568213e+00, -4.25789028e+00, -1.15132054e+01,\n",
       "        -8.25634939e+00, -7.80391075e+00, -1.15132054e+01,\n",
       "        -1.04809572e+01, -1.10577830e+01, -1.15132054e+01,\n",
       "        -1.15132054e+01, -9.36578157e+00, -9.14075265e+00,\n",
       "        -1.06924641e+01, -6.50583097e+00, -9.03164170e+00,\n",
       "        -1.07553734e+01, -1.15132054e+01, -9.80591878e+00,\n",
       "        -1.05006772e+01, -1.07087139e+01, -1.06967849e+01,\n",
       "        -1.15132054e+01, -1.06035440e+01, -1.15132054e+01,\n",
       "        -1.00702198e+01, -1.15132054e+01, -5.60234029e+00,\n",
       "                   -inf],\n",
       "       [-4.25471969e+00, -1.15132054e+01, -3.20000296e+00,\n",
       "        -8.09645787e+00, -6.75475711e+00, -1.09239644e+01,\n",
       "        -9.80511273e+00, -1.05087141e+01, -4.89095595e+00,\n",
       "        -1.15132054e+01, -8.73280095e+00, -4.55204225e+00,\n",
       "        -1.10208950e+01, -4.46342311e+00, -4.28347157e+00,\n",
       "        -8.25741153e+00, -1.15132054e+01, -5.00956964e+00,\n",
       "        -5.38479155e+00, -1.13259572e+01, -8.81276686e+00,\n",
       "        -1.15132054e+01, -7.24399246e+00, -1.15132054e+01,\n",
       "        -1.05513075e+01, -1.15132054e+01, -5.10760809e+00,\n",
       "                   -inf],\n",
       "       [-2.71984204e+00, -2.17124715e+00, -3.46541535e+00,\n",
       "        -4.54151945e+00, -3.17281594e+00, -4.15480838e+00,\n",
       "        -3.64646951e+00, -6.76641254e+00, -3.12019059e+00,\n",
       "        -1.15132054e+01, -4.31307127e+00, -1.95176143e+00,\n",
       "        -5.96774352e+00, -4.60289891e+00, -3.83356500e+00,\n",
       "        -2.32292848e+00, -1.15132054e+01, -4.43582009e+00,\n",
       "        -5.26266131e+00, -4.10676237e+00, -2.08646848e+00,\n",
       "        -1.15132054e+01, -5.11080168e+00, -6.71308138e+00,\n",
       "        -5.76437524e+00, -3.58298365e+00, -3.71874864e+00,\n",
       "                   -inf],\n",
       "       [-3.59286680e+00, -6.56237812e+00, -1.09367522e+01,\n",
       "        -5.28730861e+00, -3.87789311e+00, -9.62336111e+00,\n",
       "        -6.24800568e+00, -6.30375858e+00, -3.12479512e+00,\n",
       "        -1.15132054e+01, -7.08012356e+00, -5.25659688e+00,\n",
       "        -3.88582249e+00, -7.65776739e+00, -2.88062093e+00,\n",
       "        -7.72723266e+00, -1.15132054e+01, -4.39598731e+00,\n",
       "        -5.17220047e+00, -6.63376184e+00, -4.03934182e+00,\n",
       "        -1.15132054e+01, -8.66144192e+00, -1.15132054e+01,\n",
       "        -5.23036784e+00, -1.15132054e+01, -2.87183970e+00,\n",
       "                   -inf],\n",
       "       [-1.59754336e+00, -9.29577648e+00, -1.00976291e+01,\n",
       "        -5.29299070e+00, -2.48703930e+00, -9.31307424e+00,\n",
       "        -4.27033786e+00, -6.74413258e+00, -1.30872170e+00,\n",
       "        -1.15132054e+01, -1.92825726e+00, -5.96390970e+00,\n",
       "        -6.13499088e+00, -4.11011271e+00, -1.97548635e+00,\n",
       "        -9.32317128e+00, -1.15132054e+01, -3.96921824e+00,\n",
       "        -6.40631706e+00, -6.63376184e+00, -2.28723425e+00,\n",
       "        -1.04910077e+01, -3.21165013e+00, -1.15132054e+01,\n",
       "        -6.66823654e+00, -1.15132054e+01, -3.65300600e+00,\n",
       "                   -inf],\n",
       "       [-7.74130782e+00, -2.45440062e+00, -1.52592700e+00,\n",
       "        -2.86365725e+00, -6.31146350e+00, -1.72513091e+00,\n",
       "        -2.60330914e+00, -2.54020150e+00, -3.04986692e+00,\n",
       "        -1.41944643e+00, -6.53859360e+00, -2.56678133e+00,\n",
       "        -2.36204867e+00, -2.46997965e+00, -3.19799032e+00,\n",
       "        -2.08049203e+00, -1.15132054e+01, -2.69702258e+00,\n",
       "        -2.86575203e+00, -2.17999293e+00, -6.90077579e+00,\n",
       "        -3.22161333e+00, -2.31206416e+00, -4.87947840e+00,\n",
       "        -1.81889862e+00, -4.47446385e+00, -2.84344270e+00,\n",
       "                   -inf],\n",
       "       [-4.03028638e+00, -1.15132054e+01, -1.05734209e+01,\n",
       "        -9.02403233e+00, -4.71561467e+00, -7.83625312e+00,\n",
       "        -7.50186005e+00, -9.78781467e+00, -5.34139108e+00,\n",
       "        -1.15132054e+01, -8.24709353e+00, -5.94076298e+00,\n",
       "        -3.20554548e+00, -7.36722353e+00, -4.12415063e+00,\n",
       "        -2.47033798e+00, -1.15132054e+01, -5.42151939e+00,\n",
       "        -3.86352594e+00, -8.86142225e+00, -3.14682128e+00,\n",
       "        -1.15132054e+01, -8.61950386e+00, -1.33956701e+00,\n",
       "        -7.22355065e+00, -1.15132054e+01, -3.67030621e+00,\n",
       "                   -inf],\n",
       "       [-1.08695339e+01, -1.15132054e+01, -5.16177751e+00,\n",
       "        -1.02731382e+01, -6.27389761e+00, -1.09239644e+01,\n",
       "        -1.08694138e+01, -1.06203478e+01, -8.87380910e+00,\n",
       "        -1.15132054e+01, -1.15132054e+01, -1.08577273e+01,\n",
       "        -1.15132054e+01, -6.48373595e+00, -9.11284138e+00,\n",
       "        -1.07553734e+01, -1.15132054e+01, -8.18878302e+00,\n",
       "        -7.53209409e+00, -1.09123346e+01, -1.00886601e+01,\n",
       "        -1.15132054e+01, -1.15132054e+01, -4.86375059e+00,\n",
       "        -1.05513075e+01, -1.15132054e+01, -6.01012485e+00,\n",
       "                   -inf],\n",
       "       [-2.38051880e+00, -2.97197331e+00, -3.19390222e+00,\n",
       "        -4.20773229e+00, -1.86490774e+00, -2.68147174e+00,\n",
       "        -2.69527973e+00, -4.95906093e+00, -3.28036839e+00,\n",
       "        -1.15132054e+01, -8.15525797e+00, -6.20058208e+00,\n",
       "        -2.82092881e+00, -6.24421730e+00, -2.22073074e+00,\n",
       "        -1.95605399e+00, -1.15132054e+01, -3.83734716e+00,\n",
       "        -7.57100440e+00, -3.77041007e+00, -1.87270849e+00,\n",
       "        -6.90164985e+00, -4.56748478e+00, -1.15132054e+01,\n",
       "        -7.26889081e+00, -1.15132054e+01, -3.97499295e+00,\n",
       "                   -inf],\n",
       "       [-2.19948541e+00, -4.01428701e+00, -7.04996013e+00,\n",
       "        -3.79700512e+00, -2.86441989e+00, -7.27587689e+00,\n",
       "        -3.80205827e+00, -6.33904878e+00, -2.14015840e+00,\n",
       "        -1.15132054e+01, -3.38935239e+00, -4.37951021e+00,\n",
       "        -3.85052369e+00, -3.39175648e+00, -3.69360566e+00,\n",
       "        -3.92217909e+00, -1.15132054e+01, -2.86212835e+00,\n",
       "        -2.91980380e+00, -4.15768807e+00, -2.14816894e+00,\n",
       "        -1.15132054e+01, -4.79773242e+00, -5.46621342e+00,\n",
       "        -3.20815112e+00, -1.15132054e+01, -2.59819782e+00,\n",
       "                   -inf],\n",
       "       [-2.04149670e+00, -4.55141022e+00, -2.45390461e+00,\n",
       "        -7.04781919e+00, -3.56567705e+00, -3.37740684e+00,\n",
       "        -5.63027490e+00, -3.46956988e+00, -1.99382778e+00,\n",
       "        -1.15132054e+01, -7.79150118e+00, -4.06352703e+00,\n",
       "        -7.33505177e+00, -2.42476752e+00, -2.80370387e+00,\n",
       "        -3.32757991e+00, -1.15132054e+01, -3.11743181e+00,\n",
       "        -2.19732985e+00, -3.67317564e+00, -2.02658152e+00,\n",
       "        -1.15132054e+01, -7.58734603e+00, -1.84379618e+00,\n",
       "        -4.42468373e+00, -6.99015489e+00, -2.01032762e+00,\n",
       "                   -inf],\n",
       "       [-4.49319194e+00, -2.04508196e+00, -3.44151542e+00,\n",
       "        -4.62517009e+00, -7.37727548e+00, -3.36688472e+00,\n",
       "        -4.01903874e+00, -4.82473231e+00, -7.60322756e+00,\n",
       "        -1.20436207e+00, -8.34822362e+00, -4.26317129e+00,\n",
       "        -3.00841990e+00, -5.45279994e+00, -1.89344063e+00,\n",
       "        -3.53809912e+00, -1.71445351e-03, -4.39769720e+00,\n",
       "        -3.25044847e+00, -4.17066863e+00, -1.04507107e+01,\n",
       "        -6.80082920e+00, -8.46739813e+00, -4.59212519e+00,\n",
       "        -1.00702198e+01, -5.61203575e+00, -4.57599075e+00,\n",
       "                   -inf],\n",
       "       [-3.43151485e+00, -8.53230387e+00, -1.15132054e+01,\n",
       "        -5.83079991e+00, -3.92414030e+00, -1.05556808e+01,\n",
       "        -1.15132054e+01, -1.08898055e+01, -3.97007581e+00,\n",
       "        -1.15132054e+01, -1.02544821e+01, -5.38630971e+00,\n",
       "        -1.02478457e+01, -5.41630151e+00, -4.26488675e+00,\n",
       "        -1.15132054e+01, -1.15132054e+01, -4.97544757e+00,\n",
       "        -9.88606775e+00, -1.09123346e+01, -7.95544731e+00,\n",
       "        -1.15132054e+01, -1.09583204e+01, -5.65377646e+00,\n",
       "        -6.99650750e+00, -7.67250472e+00, -4.96228379e+00,\n",
       "                   -inf],\n",
       "       [-4.38354918e+00, -9.17594965e+00, -1.15132054e+01,\n",
       "        -6.06008010e+00, -5.14522499e+00, -8.17072986e+00,\n",
       "        -7.97409263e+00, -6.37732510e+00, -1.03880293e+01,\n",
       "        -1.15132054e+01, -5.92140568e+00, -4.95396698e+00,\n",
       "        -9.04395728e+00, -6.69647313e+00, -3.01977040e+00,\n",
       "        -7.60626019e+00, -1.15132054e+01, -5.84993557e+00,\n",
       "        -5.39696399e+00, -4.98456021e+00, -9.29340249e+00,\n",
       "        -1.15132054e+01, -8.84936260e+00, -7.21843618e+00,\n",
       "        -6.52068283e+00, -4.08270631e+00, -2.60765111e+00,\n",
       "                   -inf],\n",
       "       [-7.12489628e+00, -1.15132054e+01, -1.15132054e+01,\n",
       "        -1.15132054e+01, -4.68159943e+00, -1.15132054e+01,\n",
       "        -1.15132054e+01, -1.15132054e+01, -6.37398991e+00,\n",
       "        -1.15132054e+01, -1.15132054e+01, -1.15132054e+01,\n",
       "        -1.15132054e+01, -6.89858111e+00, -7.22838552e+00,\n",
       "        -1.15132054e+01, -1.15132054e+01, -1.15132054e+01,\n",
       "        -1.15132054e+01, -1.15132054e+01, -7.59653126e+00,\n",
       "        -1.15132054e+01, -1.15132054e+01, -5.46621342e+00,\n",
       "        -1.09208022e+01, -1.15132054e+01, -9.55695954e+00,\n",
       "                   -inf],\n",
       "       [-3.47950085e+00, -2.59921167e+00, -4.46271985e+00,\n",
       "        -4.21573908e+00, -4.33740599e+00, -6.04527100e+00,\n",
       "        -6.25739072e+00, -5.68712319e+00, -1.12820184e+01,\n",
       "        -1.15132054e+01, -5.12730797e+00, -2.31998741e+00,\n",
       "        -2.68048792e+00, -4.00287342e+00, -5.70978612e+00,\n",
       "        -4.40780064e+00, -8.67773038e+00, -3.12912040e+00,\n",
       "        -5.96690235e+00, -4.18530693e+00, -7.63495600e+00,\n",
       "        -4.92679447e+00, -7.64765231e+00, -6.45261786e+00,\n",
       "        -8.49767560e+00, -2.88185449e+00, -4.04291064e+00,\n",
       "                   -inf],\n",
       "       [-7.17082496e+00, -1.15132054e+01, -1.15132054e+01,\n",
       "        -1.15132054e+01, -9.30385263e+00, -1.15132054e+01,\n",
       "        -1.02018890e+01, -1.15132054e+01, -5.63965375e+00,\n",
       "        -1.15132054e+01, -1.15132054e+01, -1.15132054e+01,\n",
       "        -1.15132054e+01, -9.83275183e+00, -8.52306739e+00,\n",
       "        -1.15132054e+01, -1.15132054e+01, -1.07230550e+01,\n",
       "        -1.15132054e+01, -9.00149772e+00, -7.79001176e+00,\n",
       "        -1.15132054e+01, -1.09583204e+01, -1.15132054e+01,\n",
       "        -1.09208022e+01, -2.50113850e+00, -1.05414585e+01,\n",
       "                   -inf],\n",
       "       [-2.71536247e+00, -5.99167268e+00, -5.18656252e+00,\n",
       "        -4.95729093e-01, -1.12038713e+00, -9.94527767e-01,\n",
       "        -1.01429850e+00, -2.28220508e+00, -2.59613848e+00,\n",
       "        -1.15132054e+01, -1.26255693e+00, -2.02810037e+00,\n",
       "        -1.97450527e+00, -1.47389552e+00, -1.89917083e+00,\n",
       "        -2.88632063e+00, -8.67773038e+00, -1.36778041e+00,\n",
       "        -1.04372047e+00, -1.28583417e+00, -2.47283493e+00,\n",
       "        -7.48503308e+00, -2.31551364e+00, -2.50761344e+00,\n",
       "        -4.09930000e-01, -4.36122915e+00,            -inf,\n",
       "         0.00000000e+00],\n",
       "       [-7.05710633e+00, -7.86485768e+00, -6.83273348e+00,\n",
       "        -3.76718135e+00, -4.20074898e+00, -4.79068536e+00,\n",
       "        -4.10508594e+00, -5.59068969e+00, -7.18027140e+00,\n",
       "        -5.55708542e+00, -4.05276322e+00, -4.92168862e+00,\n",
       "        -4.25113122e+00, -4.46990881e+00, -6.02570443e+00,\n",
       "        -5.42192250e+00, -6.78343596e+00, -3.42989812e+00,\n",
       "        -3.66247403e+00, -4.34531775e+00, -5.38087318e+00,\n",
       "        -8.07124897e+00, -5.12816434e+00, -4.73233387e+00,\n",
       "        -3.27552867e+00, -1.15132054e+01,            -inf,\n",
       "                   -inf]])"
      ]
     },
     "execution_count": 3,
     "metadata": {},
     "output_type": "execute_result"
    },
    {
     "data": {
      "image/png": "[encoded data removed]",
      "text/plain": [
       "<Figure size 432x288 with 2 Axes>"
      ]
     },
     "metadata": {
      "needs_background": "light"
     },
     "output_type": "display_data"
    }
   ],
   "source": [
    "M = np.zeros(shape=([28, 28]))\n",
    "with open(\"data/letter_transition_matrix.csv\", \"r\") as f:\n",
    "    lines = f.readlines()\n",
    "    assert len(lines)==28, \"The size of the alphabet is 28\"\n",
    "    for i in range(28):\n",
    "        M[i, :] = [float(x) for x in lines[i].split(\",\")]\n",
    "logM = np.log(M) # 0 exists\n",
    "# logM = np.ma.log(M).filled(\"NA\") # 0 exists\n",
    "sns.heatmap(M)\n",
    "# plt.savefig(\"transition.pdf\")\n",
    "logM"
   ]
  },
  {
   "cell_type": "code",
   "execution_count": 4,
   "metadata": {
    "ExecuteTime": {
     "end_time": "2019-05-07T20:54:02.506668Z",
     "start_time": "2019-05-07T20:54:02.496159Z"
    }
   },
   "outputs": [
    {
     "name": "stdout",
     "output_type": "stream",
     "text": [
      "27\n"
     ]
    }
   ],
   "source": [
    "x, y = np.where(logM==-float('inf'))\n",
    "unique, counts = np.unique(y, return_counts=True)\n",
    "for i, v in dict(zip(unique, counts)).items():\n",
    "    if v==27:\n",
    "        print(i)"
   ]
  },
  {
   "cell_type": "code",
   "execution_count": 5,
   "metadata": {
    "ExecuteTime": {
     "end_time": "2019-05-07T20:54:02.761356Z",
     "start_time": "2019-05-07T20:54:02.754721Z"
    }
   },
   "outputs": [
    {
     "data": {
      "text/plain": [
       "array([[False, False, False, False, False, False, False, False, False,\n",
       "        False, False, False, False, False, False, False, False, False,\n",
       "        False, False, False, False, False, False, False, False, False,\n",
       "         True],\n",
       "       [False, False, False, False, False, False, False, False, False,\n",
       "        False, False, False, False, False, False, False, False, False,\n",
       "        False, False, False, False, False, False, False, False, False,\n",
       "         True],\n",
       "       [False, False, False, False, False, False, False, False, False,\n",
       "        False, False, False, False, False, False, False, False, False,\n",
       "        False, False, False, False, False, False, False, False, False,\n",
       "         True],\n",
       "       [False, False, False, False, False, False, False, False, False,\n",
       "        False, False, False, False, False, False, False, False, False,\n",
       "        False, False, False, False, False, False, False, False, False,\n",
       "         True],\n",
       "       [False, False, False, False, False, False, False, False, False,\n",
       "        False, False, False, False, False, False, False, False, False,\n",
       "        False, False, False, False, False, False, False, False, False,\n",
       "         True],\n",
       "       [False, False, False, False, False, False, False, False, False,\n",
       "        False, False, False, False, False, False, False, False, False,\n",
       "        False, False, False, False, False, False, False, False, False,\n",
       "         True],\n",
       "       [False, False, False, False, False, False, False, False, False,\n",
       "        False, False, False, False, False, False, False, False, False,\n",
       "        False, False, False, False, False, False, False, False, False,\n",
       "         True],\n",
       "       [False, False, False, False, False, False, False, False, False,\n",
       "        False, False, False, False, False, False, False, False, False,\n",
       "        False, False, False, False, False, False, False, False, False,\n",
       "         True],\n",
       "       [False, False, False, False, False, False, False, False, False,\n",
       "        False, False, False, False, False, False, False, False, False,\n",
       "        False, False, False, False, False, False, False, False, False,\n",
       "         True],\n",
       "       [False, False, False, False, False, False, False, False, False,\n",
       "        False, False, False, False, False, False, False, False, False,\n",
       "        False, False, False, False, False, False, False, False, False,\n",
       "         True],\n",
       "       [False, False, False, False, False, False, False, False, False,\n",
       "        False, False, False, False, False, False, False, False, False,\n",
       "        False, False, False, False, False, False, False, False, False,\n",
       "         True],\n",
       "       [False, False, False, False, False, False, False, False, False,\n",
       "        False, False, False, False, False, False, False, False, False,\n",
       "        False, False, False, False, False, False, False, False, False,\n",
       "         True],\n",
       "       [False, False, False, False, False, False, False, False, False,\n",
       "        False, False, False, False, False, False, False, False, False,\n",
       "        False, False, False, False, False, False, False, False, False,\n",
       "         True],\n",
       "       [False, False, False, False, False, False, False, False, False,\n",
       "        False, False, False, False, False, False, False, False, False,\n",
       "        False, False, False, False, False, False, False, False, False,\n",
       "         True],\n",
       "       [False, False, False, False, False, False, False, False, False,\n",
       "        False, False, False, False, False, False, False, False, False,\n",
       "        False, False, False, False, False, False, False, False, False,\n",
       "         True],\n",
       "       [False, False, False, False, False, False, False, False, False,\n",
       "        False, False, False, False, False, False, False, False, False,\n",
       "        False, False, False, False, False, False, False, False, False,\n",
       "         True],\n",
       "       [False, False, False, False, False, False, False, False, False,\n",
       "        False, False, False, False, False, False, False, False, False,\n",
       "        False, False, False, False, False, False, False, False, False,\n",
       "         True],\n",
       "       [False, False, False, False, False, False, False, False, False,\n",
       "        False, False, False, False, False, False, False, False, False,\n",
       "        False, False, False, False, False, False, False, False, False,\n",
       "         True],\n",
       "       [False, False, False, False, False, False, False, False, False,\n",
       "        False, False, False, False, False, False, False, False, False,\n",
       "        False, False, False, False, False, False, False, False, False,\n",
       "         True],\n",
       "       [False, False, False, False, False, False, False, False, False,\n",
       "        False, False, False, False, False, False, False, False, False,\n",
       "        False, False, False, False, False, False, False, False, False,\n",
       "         True],\n",
       "       [False, False, False, False, False, False, False, False, False,\n",
       "        False, False, False, False, False, False, False, False, False,\n",
       "        False, False, False, False, False, False, False, False, False,\n",
       "         True],\n",
       "       [False, False, False, False, False, False, False, False, False,\n",
       "        False, False, False, False, False, False, False, False, False,\n",
       "        False, False, False, False, False, False, False, False, False,\n",
       "         True],\n",
       "       [False, False, False, False, False, False, False, False, False,\n",
       "        False, False, False, False, False, False, False, False, False,\n",
       "        False, False, False, False, False, False, False, False, False,\n",
       "         True],\n",
       "       [False, False, False, False, False, False, False, False, False,\n",
       "        False, False, False, False, False, False, False, False, False,\n",
       "        False, False, False, False, False, False, False, False, False,\n",
       "         True],\n",
       "       [False, False, False, False, False, False, False, False, False,\n",
       "        False, False, False, False, False, False, False, False, False,\n",
       "        False, False, False, False, False, False, False, False, False,\n",
       "         True],\n",
       "       [False, False, False, False, False, False, False, False, False,\n",
       "        False, False, False, False, False, False, False, False, False,\n",
       "        False, False, False, False, False, False, False, False, False,\n",
       "         True],\n",
       "       [False, False, False, False, False, False, False, False, False,\n",
       "        False, False, False, False, False, False, False, False, False,\n",
       "        False, False, False, False, False, False, False, False,  True,\n",
       "        False],\n",
       "       [False, False, False, False, False, False, False, False, False,\n",
       "        False, False, False, False, False, False, False, False, False,\n",
       "        False, False, False, False, False, False, False, False,  True,\n",
       "         True]])"
      ]
     },
     "execution_count": 5,
     "metadata": {},
     "output_type": "execute_result"
    }
   ],
   "source": [
    "logM==-float('inf')"
   ]
  },
  {
   "cell_type": "code",
   "execution_count": 6,
   "metadata": {
    "ExecuteTime": {
     "end_time": "2019-05-07T20:54:02.998227Z",
     "start_time": "2019-05-07T20:54:02.988557Z"
    }
   },
   "outputs": [
    {
     "data": {
      "text/plain": [
       "array([-2.74406395, -4.38811834, -3.9830586 , -3.3385973 , -2.29960929,\n",
       "       -4.01201128, -4.13061131, -2.98854679, -2.88517691, -6.88957533,\n",
       "       -5.15651086, -3.46192543, -3.77947318, -2.87297517, -2.77598578,\n",
       "       -4.357324  , -7.0068771 , -3.03101449, -3.0011987 , -2.65164984,\n",
       "       -3.77174282, -4.80810333, -3.93312995, -6.72116167, -4.01909939,\n",
       "       -8.05087363, -1.67694606, -4.68483536])"
      ]
     },
     "execution_count": 6,
     "metadata": {},
     "output_type": "execute_result"
    }
   ],
   "source": [
    "P = np.zeros(shape=([28]))\n",
    "with open(\"data/letter_probabilities.csv\", \"r\") as f:\n",
    "    line = f.readline()\n",
    "    assert len(lines)==28, \"The size of the alphabet is 28\"\n",
    "    P = [float(x) for x in line[:-1].split(\",\")]\n",
    "logP = np.log(P)\n",
    "logP"
   ]
  },
  {
   "cell_type": "code",
   "execution_count": 7,
   "metadata": {
    "ExecuteTime": {
     "end_time": "2019-05-07T20:54:03.289431Z",
     "start_time": "2019-05-07T20:54:03.283639Z"
    }
   },
   "outputs": [],
   "source": [
    "with open(\"data/alphabet.csv\", \"r\") as f:\n",
    "    line = f.readline()\n",
    "    assert len(lines)==28, \"The size of the alphabet is 28\"\n",
    "    Alphabet = line[:-1].split(\",\")\n",
    "    content2idx = {}\n",
    "    idx2content = {}\n",
    "    for i in range(28):\n",
    "        content2idx[Alphabet[i]] = i\n",
    "        idx2content[i] = Alphabet[i]"
   ]
  },
  {
   "cell_type": "code",
   "execution_count": 8,
   "metadata": {
    "ExecuteTime": {
     "end_time": "2019-05-07T20:54:03.541662Z",
     "start_time": "2019-05-07T20:54:03.530387Z"
    }
   },
   "outputs": [
    {
     "data": {
      "text/plain": [
       "'chapter i well prince so genoa and lucca are now just family estates of the buonapartes. but i warn you if you dont tell me that this means war if you still try to defend the infamies and horrors perpetrated by that antichristi really believe he is antichristi will have nothing more to do with you and you are no longer my friend no longer my faithful slave as you call yourself but how do you do i see i have frightened yousit down and tell me all the news. it was in july and the speaker was the wellknown anna pavlovna scherer maid of honor and favorite of the empress marya fedorovna. with these words she greeted prince vasili kuragin a man of high rank and importance who was the first to arrive at her reception. anna pavlovna had had a cough for some days. she was as she said suffering from la grippe grippe being then a new word in st. petersburg used only by the elite. all her invitations without exception written in french and delivered by a scarletliveried footman that morning ran as follows if you have nothing better to do count or prince and if the prospect of spending an evening with a poor invalid is not too terrible i shall be very charmed to see you tonight between and annette scherer. heavens what a virulent attack replied the prince not in the least disconcerted by this reception. he had just entered wearing an embroidered court uniform knee breeches and shoes and had stars on his breast and a serene expression on his flat face. he spoke in that refined french in which our grandfathers not only spoke but thought and with the gentle patronizing intonation natural to a man of importance who had grown old in society and at court. he went up to anna pavlovna kissed her hand presenting to her his bald scented and shining head and complacently seated himself on the sofa. first of all dear friend tell me how you are. set your friends mind at rest said he without altering his tone beneath the politeness and affected sympathy of which indifference and even irony could be discerned. can one be well while suffering morally can one be calm in times like these if one has any feeling said anna pavlovna. you are staying the whole evening i hope and the fete at the english ambassadors today is wednesday. i must put in an appearance there said the prince. my daughter is coming for me to take me there. i thought todays fete had been canceled. i confess all these festivities and fireworks are becoming wearisome. if they had known that you wished it the entertainment would have been put off said the prince who like a woundup clock by force of habit said things he did not even wish to be believed. dont tease well and what has been decided about novosiltsevs dispatch you know everything. what can one say about it replied the prince in a cold listless tone. what has been decided they have decided that buonaparte has burnt his boats and i believe that we are ready to burn ours. prince vasili always spoke languidly like an actor repeating a stale part. anna pavlovna scherer on the contrary despite her forty years overflowed with animation and impulsiveness. to be an enthusiast had become her social vocation and sometimes even when she did not feel like it she became enthusiastic in order not to disappoint the expectations of those who knew her. the subdued smile which though it did not suit her faded features always played round her lips expressed as in a spoiled child a continual consciousness of her charming defect which she neither wished nor could nor considered it necessary to correct. in the midst of a conversation on political matters anna pavlovna burst out oh dont speak to me of austria. perhaps i dont understand things but austria never has wished and does not wish for war. she is betraying us russia alone must save europe. our gracious sovereign recognizes his high vocation and will be true to it. that is the one thing i have faith in our good and wonderful sovereign has to perform the noblest role on earth and he is so virtuous and noble that god will not forsake him. he will fulfill his vocation and crush the hydra of revolution which has become more terrible than ever in the person of this murderer and villain we alone must avenge the blood of the just one. whom i ask you can we rely on. england with her commercial spirit will not and cannot understand the emperor alexanders loftiness of soul. she has refused to evacuate malta. she wanted to find and still seeks some secret motive in our actions. what answer did novosiltsev get none. the english have not understood and cannot understand the selfabnegation of our emperor who wants nothing for himself but only desires the good of mankind. and what have they promised nothing and what little they have promised they will not perform prussia has always declared that buonaparte is invincible and that all europe is powerless before him. and i dont believe a word that hardenburg says or haugwitz either. this famous prussian neutrality is just a trap. i have faith only in god and the lofty destiny of our adored monarch. he will save europe she suddenly paused smiling at her own impetuosity. i think said the prince with a smile that if you had been sent instead of our dear wintzingerode you would have captured the king of prussias consent by assault.'"
      ]
     },
     "execution_count": 8,
     "metadata": {},
     "output_type": "execute_result"
    }
   ],
   "source": [
    "with open(\"test_ciphertext_breakpoint.txt\", \"r\") as f:\n",
    "    ciphertext = f.read()[:-1] # replace \\n at the end of the file\n",
    "ciphertext\n",
    "with open(\"test_plaintext.txt\", \"r\") as f:\n",
    "    plaintext = f.read()[:-1] # replace \\n at the end of the file\n",
    "plaintext"
   ]
  },
  {
   "cell_type": "markdown",
   "metadata": {},
   "source": [
    "The char after \".\" must be \" \". We can't have two adjacent \".\" or \" \""
   ]
  },
  {
   "cell_type": "markdown",
   "metadata": {},
   "source": [
    "# MCMC\n",
    "Store the ciphering function as a dictionary."
   ]
  },
  {
   "cell_type": "code",
   "execution_count": 103,
   "metadata": {
    "ExecuteTime": {
     "end_time": "2019-05-07T22:38:56.838779Z",
     "start_time": "2019-05-07T22:38:56.782779Z"
    }
   },
   "outputs": [],
   "source": [
    "class MCMC:\n",
    "    def __init__(self, ciphertext, answer):\n",
    "        self.alphabet = ['a', 'b', 'c', 'd', 'e', 'f', 'g', 'h', 'i', 'j', 'k', 'l', 'm', 'n', 'o', 'p', 'q', 'r', 's', 't', 'u', 'v', 'w', 'x', 'y', 'z', ' ', '.']\n",
    "        self.answer = answer\n",
    "        self.idx2alpha = dict(zip(range(28), self.alphabet))\n",
    "        random.shuffle(self.alphabet)\n",
    "        self.cur_f = dict(zip(self.alphabet, range(28)))\n",
    "        self.ciphertext_transition = collections.Counter()\n",
    "        for a in self.alphabet:\n",
    "            self.ciphertext_transition[a] = collections.Counter()\n",
    "        for i in range(1, len(ciphertext), 1): #including /n\n",
    "            self.ciphertext_transition[ciphertext[i]][ciphertext[i-1]] += 1\n",
    "        self.ciphertext = ciphertext\n",
    "        self.set1, self.set2 = self.checkvalid(self.ciphertext)\n",
    "        \n",
    "    def Pf(self, code2idx):\n",
    "        logPf = logP[code2idx[self.ciphertext[0]]]\n",
    "        for a in self.alphabet:\n",
    "            for b in self.alphabet:\n",
    "                if self.ciphertext_transition[a][b]!=0:\n",
    "                    if logM[code2idx[a], code2idx[b]] == -math.inf:\n",
    "                        return \"not exist\"\n",
    "                    else:\n",
    "                        logPf += self.ciphertext_transition[a][b] * logM[code2idx[a], code2idx[b]]\n",
    "        \n",
    "        return logPf\n",
    "    \n",
    "    def generate_f(self, oldf, set1, set2):\n",
    "        # set1: \".\"\n",
    "        # set2 : \" \"\n",
    "        a, b = random.sample(self.alphabet, 2)\n",
    "        f2 = oldf.copy()\n",
    "        f2[a] = self.cur_f[b]\n",
    "        f2[b] = self.cur_f[a]\n",
    "        for i, v in f2.items():\n",
    "            if(v==27 and i not in self.set1):\n",
    "                candidate = random.sample(self.set1, k=1)[0]\n",
    "                tmp = f2[i]\n",
    "                f2[i] = f2[candidate]\n",
    "                f2[candidate] = tmp\n",
    "            if(v==26 and i not in self.set2):\n",
    "                candidate = random.sample(self.set2, k=1)[0]\n",
    "                tmp = f2[i]\n",
    "                f2[i] = f2[candidate]\n",
    "                f2[candidate] = tmp\n",
    "        return f2\n",
    "\n",
    "    \n",
    "    def decode(self):\n",
    "        s = \"\"\n",
    "        for c in self.ciphertext:\n",
    "            s += self.idx2alpha[self.cur_f[c]]\n",
    "        return s\n",
    "\n",
    "\n",
    "    def accuracy(self, answer):\n",
    "        s = 0\n",
    "        assert len(self.ciphertext)==len(answer), \"answer length not align\"\n",
    "        for c in range(len(self.ciphertext)):\n",
    "            if (self.idx2alpha[self.cur_f[self.ciphertext[c]]]==answer[c]):\n",
    "                s += 1\n",
    "#         print(\"Accuracy {}/{}\".format(s, len(self.ciphertext)))\n",
    "        return s\n",
    "        \n",
    "    def checkvalid(self, content):\n",
    "        transition = collections.Counter()\n",
    "        for i in self.alphabet:\n",
    "            transition[i] = collections.Counter()\n",
    "        for i in range(1, len(content), 1): #including /n\n",
    "            transition[content[i-1]][content[i]] += 1\n",
    "        \n",
    "        valid = False\n",
    "        \n",
    "        notrepeat = [] # ' ' & '.'\n",
    "        for a in self.alphabet:\n",
    "            if(transition[a][a]==0):\n",
    "                notrepeat.append(a)\n",
    "                \n",
    "        set1 = [] # \" \"\n",
    "        set2 = [] # \".\"\n",
    "        for a in notrepeat:\n",
    "            if(len(transition[a])==0):\n",
    "                set2.append(a)\n",
    "            elif(len(transition[a])==1 and list(transition[a].keys())[0] in notrepeat):\n",
    "                set1.append(list(transition[a].keys())[0])\n",
    "                set2.append(a)\n",
    "                \n",
    "        if(len(transition)==28): # All the char have occurred. So we must have a \". \" pair.\n",
    "            return set2, set1\n",
    "        else:\n",
    "            return set2, notrepeat\n",
    "    \n",
    "    def run(self, runningtime=30, printacc=True):\n",
    "        n = len(self.ciphertext)\n",
    "        start_time = time.time()\n",
    "        loglikelihood = []\n",
    "        times = []\n",
    "        acc = []\n",
    "        accepted = []\n",
    "        t = 0\n",
    "        while(time.time()-start_time<runningtime):\n",
    "            t += 1\n",
    "            f2 = self.generate_f(self.cur_f, self.set1, self.set2)\n",
    "            pf2 = self.Pf(f2)\n",
    "            pf1 = self.Pf(self.cur_f)\n",
    "            rand = random.random()\n",
    "            if pf1==\"not exist\" and pf2==\"not exist\":\n",
    "                if random.random()<0.5:\n",
    "                    accepted.append(True)\n",
    "                    self.cur_f= f2\n",
    "                else:\n",
    "                    accepted.append(False)\n",
    "            elif pf1==\"not exist\":\n",
    "                accepted.append(True)\n",
    "                self.cur_f = f2\n",
    "            elif pf2==\"not exist\":\n",
    "                accepted.append(False)\n",
    "                pass\n",
    "            \n",
    "            elif rand<min(1, np.exp(pf2-pf1)):\n",
    "                self.cur_f = f2\n",
    "                accepted.append(True)\n",
    "                \n",
    "            else:\n",
    "                accepted.append(False)\n",
    "                \n",
    "    \n",
    "            if self.Pf(self.cur_f) != \"not exist\":\n",
    "                times.append(t)\n",
    "                loglikelihood.append(self.Pf(self.cur_f))\n",
    "                acc.append(self.accuracy(self.answer)/len(self.ciphertext))\n",
    "            else:\n",
    "                times.append(math.nan)\n",
    "                loglikelihood.append(math.nan)\n",
    "                acc.append(math.nan)\n",
    "                \n",
    "            if printacc:\n",
    "                if (t%500==0):\n",
    "                    print(\"Accuracy {}/{}, Log-Liklihood {}, time {} ({}/{})\".format(self.accuracy(self.answer), len(self.answer), self.Pf(self.cur_f), time.time()-start_time, t, n))\n",
    "        return times, loglikelihood, acc, accepted"
   ]
  },
  {
   "cell_type": "code",
   "execution_count": 104,
   "metadata": {
    "ExecuteTime": {
     "end_time": "2019-05-07T22:39:27.526164Z",
     "start_time": "2019-05-07T22:38:57.513878Z"
    }
   },
   "outputs": [
    {
     "name": "stderr",
     "output_type": "stream",
     "text": [
      "/usr/local/lib/python3.7/site-packages/ipykernel_launcher.py:120: RuntimeWarning: overflow encountered in exp\n"
     ]
    },
    {
     "name": "stdout",
     "output_type": "stream",
     "text": [
      "Accuracy 546/1120, Log-Liklihood -3455.4584587472777, time 1.4392330646514893 (500/1120)\n",
      "Accuracy 734/1120, Log-Liklihood -3301.930386570587, time 2.9157588481903076 (1000/1120)\n",
      "Accuracy 816/1120, Log-Liklihood -3047.7576792371815, time 4.504192113876343 (1500/1120)\n",
      "Accuracy 866/1120, Log-Liklihood -2963.5578306528328, time 5.7778260707855225 (2000/1120)\n",
      "Accuracy 1060/1120, Log-Liklihood -2740.858560916313, time 7.053124904632568 (2500/1120)\n",
      "Accuracy 1096/1120, Log-Liklihood -2685.5368009962817, time 8.418115139007568 (3000/1120)\n",
      "Accuracy 1118/1120, Log-Liklihood -2684.1232031838244, time 9.783071041107178 (3500/1120)\n",
      "Accuracy 1118/1120, Log-Liklihood -2684.1232031838244, time 11.050993919372559 (4000/1120)\n",
      "Accuracy 1098/1120, Log-Liklihood -2687.1265271089824, time 12.346785068511963 (4500/1120)\n",
      "Accuracy 1098/1120, Log-Liklihood -2687.1265271089824, time 13.688600063323975 (5000/1120)\n",
      "Accuracy 1118/1120, Log-Liklihood -2684.1232031838244, time 15.040388107299805 (5500/1120)\n",
      "Accuracy 1096/1120, Log-Liklihood -2685.5368009962817, time 16.48638391494751 (6000/1120)\n",
      "Accuracy 1118/1120, Log-Liklihood -2684.1232031838244, time 17.834742069244385 (6500/1120)\n",
      "Accuracy 1118/1120, Log-Liklihood -2684.1232031838244, time 19.121359825134277 (7000/1120)\n",
      "Accuracy 1120/1120, Log-Liklihood -2685.712929296525, time 20.491609811782837 (7500/1120)\n",
      "Accuracy 1118/1120, Log-Liklihood -2684.1232031838244, time 21.78090000152588 (8000/1120)\n",
      "Accuracy 1098/1120, Log-Liklihood -2687.1265271089824, time 23.12757396697998 (8500/1120)\n",
      "Accuracy 1120/1120, Log-Liklihood -2685.712929296525, time 24.500783920288086 (9000/1120)\n",
      "Accuracy 1118/1120, Log-Liklihood -2684.1232031838244, time 25.877228021621704 (9500/1120)\n",
      "Accuracy 1118/1120, Log-Liklihood -2684.1232031838244, time 27.222339153289795 (10000/1120)\n",
      "Accuracy 1118/1120, Log-Liklihood -2684.1232031838244, time 28.7515652179718 (10500/1120)\n"
     ]
    }
   ],
   "source": [
    "random.seed(21)\n",
    "mcmc1 = MCMC(ciphertext=ciphertext[:1119+1], answer=plaintext[:1119+1])\n",
    "times, loglikelihood, acc, accepted = mcmc1.run(30)\n",
    "single_f1 = mcmc1.cur_f"
   ]
  },
  {
   "cell_type": "code",
   "execution_count": 53,
   "metadata": {
    "ExecuteTime": {
     "end_time": "2019-05-07T21:33:19.872442Z",
     "start_time": "2019-05-07T21:33:19.861633Z"
    }
   },
   "outputs": [
    {
     "data": {
      "text/plain": [
       "'chapter i well prince so genoa and lucca are now just family estates of the buonapartes. but i warn you if you dont tell me that this means war if you still try to defend the infamies and horrors perpetrated by that antichristi really belieke he is antichristi will hake nothing more to do with you and you are no longer my friend no longer my faithful slake as you call yourself but how do you do i see i hake frightened yousit down and tell me all the news. it was in july and the speaver was the wellvnown anna paklokna scherer maid of honor and fakorite of the empress marya fedorokna. with these words she greeted prince kasili vuragin a man of high ranv and importance who was the first to arrike at her reception. anna paklokna had had a cough for some days. she was as she said suffering from la grippe grippe being then a new word in st. petersburg used only by the elite. all her inkitations without exception written in french and delikered by a scarletlikeried footman that morning ran as follows if you hake nothing better to do count or prince and if the prospect of spending an ekening with a poor inkalid'"
      ]
     },
     "execution_count": 53,
     "metadata": {},
     "output_type": "execute_result"
    }
   ],
   "source": [
    "mcmc1.decode()"
   ]
  },
  {
   "cell_type": "code",
   "execution_count": 56,
   "metadata": {
    "ExecuteTime": {
     "end_time": "2019-05-07T21:34:28.256300Z",
     "start_time": "2019-05-07T21:34:08.916836Z"
    }
   },
   "outputs": [
    {
     "name": "stdout",
     "output_type": "stream",
     "text": [
      "Accuracy 311/4150, Log-Liklihood not exist, time 0.002104043960571289 (0/5000)\n"
     ]
    },
    {
     "name": "stderr",
     "output_type": "stream",
     "text": [
      "/usr/local/lib/python3.7/site-packages/ipykernel_launcher.py:122: RuntimeWarning: overflow encountered in exp\n"
     ]
    },
    {
     "name": "stdout",
     "output_type": "stream",
     "text": [
      "Accuracy 3357/4150, Log-Liklihood -11451.902934245694, time 2.0423688888549805 (500/5000)\n",
      "Accuracy 3828/4150, Log-Liklihood -10074.757654918645, time 3.9716427326202393 (1000/5000)\n",
      "Accuracy 4147/4150, Log-Liklihood -9832.509696653211, time 5.8404059410095215 (1500/5000)\n",
      "Accuracy 4147/4150, Log-Liklihood -9832.509696653211, time 7.812578916549683 (2000/5000)\n",
      "Accuracy 4147/4150, Log-Liklihood -9832.509696653211, time 9.73538875579834 (2500/5000)\n",
      "Accuracy 4147/4150, Log-Liklihood -9832.509696653211, time 11.669350862503052 (3000/5000)\n",
      "Accuracy 4147/4150, Log-Liklihood -9832.509696653211, time 13.603855848312378 (3500/5000)\n",
      "Accuracy 4147/4150, Log-Liklihood -9832.509696653211, time 15.4690260887146 (4000/5000)\n",
      "Accuracy 4147/4150, Log-Liklihood -9832.509696653211, time 17.398634910583496 (4500/5000)\n"
     ]
    }
   ],
   "source": [
    "random.seed(21)\n",
    "mcmc2 = MCMC(ciphertext=ciphertext[1137:], answer=plaintext[1137:])\n",
    "times, loglikelihood, acc, accepted = mcmc2.run()\n",
    "single_f2 = mcmc2.cur_f"
   ]
  },
  {
   "cell_type": "code",
   "execution_count": 57,
   "metadata": {
    "ExecuteTime": {
     "end_time": "2019-05-07T21:34:29.111763Z",
     "start_time": "2019-05-07T21:34:29.100876Z"
    }
   },
   "outputs": [
    {
     "data": {
      "text/plain": [
       "'ble i shall be very charmed to see you tonight between and annette scherer. heavens what a virulent attack replied the prince not in the least disconcerted by this reception. he had qust entered wearing an embroidered court uniform knee breeches and shoes and had stars on his breast and a serene expression on his flat face. he spoke in that refined french in which our grandfathers not only spoke but thought and with the gentle patronizing intonation natural to a man of importance who had grown old in society and at court. he went up to anna pavlovna kissed her hand presenting to her his bald scented and shining head and complacently seated himself on the sofa. first of all dear friend tell me how you are. set your friends mind at rest said he without altering his tone beneath the politeness and affected sympathy of which indifference and even irony could be discerned. can one be well while suffering morally can one be calm in times like these if one has any feeling said anna pavlovna. you are staying the whole evening i hope and the fete at the english ambassadors today is wednesday. i must put in an appearance there said the prince. my daughter is coming for me to take me there. i thought todays fete had been canceled. i confess all these festivities and fireworks are becoming wearisome. if they had known that you wished it the entertainment would have been put off said the prince who like a woundup clock by force of habit said things he did not even wish to be believed. dont tease well and what has been decided about novosiltsevs dispatch you know everything. what can one say about it replied the prince in a cold listless tone. what has been decided they have decided that buonaparte has burnt his boats and i believe that we are ready to burn ours. prince vasili always spoke languidly like an actor repeating a stale part. anna pavlovna scherer on the contrary despite her forty years overflowed with animation and impulsiveness. to be an enthusiast had become her social vocation and sometimes even when she did not feel like it she became enthusiastic in order not to disappoint the expectations of those who knew her. the subdued smile which though it did not suit her faded features always played round her lips expressed as in a spoiled child a continual consciousness of her charming defect which she neither wished nor could nor considered it necessary to correct. in the midst of a conversation on political matters anna pavlovna burst out oh dont speak to me of austria. perhaps i dont understand things but austria never has wished and does not wish for war. she is betraying us russia alone must save europe. our gracious sovereign recognizes his high vocation and will be true to it. that is the one thing i have faith in our good and wonderful sovereign has to perform the noblest role on earth and he is so virtuous and noble that god will not forsake him. he will fulfill his vocation and crush the hydra of revolution which has become more terrible than ever in the person of this murderer and villain we alone must avenge the blood of the qust one. whom i ask you can we rely on. england with her commercial spirit will not and cannot understand the emperor alexanders loftiness of soul. she has refused to evacuate malta. she wanted to find and still seeks some secret motive in our actions. what answer did novosiltsev get none. the english have not understood and cannot understand the selfabnegation of our emperor who wants nothing for himself but only desires the good of mankind. and what have they promised nothing and what little they have promised they will not perform prussia has always declared that buonaparte is invincible and that all europe is powerless before him. and i dont believe a word that hardenburg says or haugwitz either. this famous prussian neutrality is qust a trap. i have faith only in god and the lofty destiny of our adored monarch. he will save europe she suddenly paused smiling at her own impetuosity. i think said the prince with a smile that if you had been sent instead of our dear wintzingerode you would have captured the king of prussias consent by assault.'"
      ]
     },
     "execution_count": 57,
     "metadata": {},
     "output_type": "execute_result"
    }
   ],
   "source": [
    "mcmc2.decode()"
   ]
  },
  {
   "cell_type": "markdown",
   "metadata": {},
   "source": [
    "# MCMC B"
   ]
  },
  {
   "cell_type": "code",
   "execution_count": 89,
   "metadata": {
    "ExecuteTime": {
     "end_time": "2019-05-07T21:54:51.355998Z",
     "start_time": "2019-05-07T21:54:51.214848Z"
    },
    "code_folding": []
   },
   "outputs": [],
   "source": [
    "class MCMC_B:\n",
    "    def __init__(self, ciphertext, answer, f1=None, f2=None):\n",
    "        self.answer = answer\n",
    "        alphabet = ['a', 'b', 'c', 'd', 'e', 'f', 'g', 'h', 'i', 'j', 'k', 'l', 'm', 'n', 'o', 'p', 'q', 'r', 's', 't', 'u', 'v', 'w', 'x', 'y', 'z', ' ', '.']\n",
    "        self.idx2alpha = dict(zip(range(28), alphabet))\n",
    "        self.alphabet = alphabet\n",
    "        self.ciphertext_transition = collections.Counter()\n",
    "        for a in self.alphabet:\n",
    "            self.ciphertext_transition[a] = collections.Counter()\n",
    "        for i in range(1, len(ciphertext), 1): #including /n\n",
    "            self.ciphertext_transition[ciphertext[i]][ciphertext[i-1]] += 1\n",
    "        self.ciphertext = ciphertext\n",
    "        \n",
    "        self.cur_f1 = f1\n",
    "        self.cur_f2 = f2\n",
    "        \n",
    "        if(self.cur_f1==None or self.cur_f2==None):\n",
    "            if(self.cur_f1==None):\n",
    "                random.shuffle(alphabet)\n",
    "                self.cur_f1 = dict(zip(alphabet, range(28)))\n",
    "            if(self.cur_f2==None):\n",
    "                random.shuffle(alphabet)\n",
    "                self.cur_f2 = dict(zip(alphabet, range(28)))\n",
    "            self.cur_f1, self.cur_f2, self.breakpoint = self.generate_f()\n",
    "            \n",
    "        l = 0\n",
    "        r = len(self.ciphertext)-1\n",
    "        # [minb, maxb]\n",
    "        # determining the maximum x such that ciphertext[:x] valid\n",
    "        while(l<=r):\n",
    "            m = int(l + (r - l)/2)\n",
    "            a, b = self.checkvalid(self.ciphertext[m:])\n",
    "            if(len(a)>0 and len(b)>1):\n",
    "                r = m - 1\n",
    "            else:\n",
    "                l = m + 1\n",
    "        self.minbs = l\n",
    "        self.leftsets = self.checkvalid(self.ciphertext[:self.minbs])\n",
    "        \n",
    "        l = 0\n",
    "        r = len(self.ciphertext)-1\n",
    "        # [minb, maxb]\n",
    "        # determining the minimum x such that ciphertext[x:] valid\n",
    "        while(l<=r):\n",
    "            m = int(l + (r - l)/2)\n",
    "            a, b = self.checkvalid(self.ciphertext[:m])\n",
    "            if(len(a)>0 and len(b)>1):\n",
    "                l = m + 1\n",
    "            else:\n",
    "                r = m - 1\n",
    "        self.maxbs = r\n",
    "        self.rightsets = self.checkvalid(self.ciphertext[self.maxbs:])\n",
    "        \n",
    "        self.breakpoint = random.randint(self.minbs, self.maxbs+1)\n",
    "        \n",
    "        print(\"Breakpoints\", self.minbs, self.maxbs)\n",
    "        print(self.leftsets)\n",
    "        print(self.rightsets)\n",
    "        \n",
    "        \n",
    "        \n",
    "    def Pf(self, code2idx1, code2idx2, breakpoint):\n",
    "        logPf1 = logP[code2idx1[ciphertext[0]]]\n",
    "        for idx in range(1, breakpoint, 1):\n",
    "            if logM[code2idx1[self.ciphertext[idx]], code2idx1[self.ciphertext[idx-1]]] == -float('inf'):\n",
    "                logPf1 = \"not exist\"\n",
    "                break\n",
    "            else:\n",
    "                logPf1 += logM[code2idx1[self.ciphertext[idx]], code2idx1[self.ciphertext[idx-1]]]\n",
    "\n",
    "        logPf2 = logP[code2idx2[ciphertext[breakpoint]]]\n",
    "        for idx in range(breakpoint+1, len(self.ciphertext), 1):\n",
    "            if logM[code2idx2[self.ciphertext[idx]], code2idx2[self.ciphertext[idx-1]]] == -float('inf'):\n",
    "                logPf2 = \"not exist\"\n",
    "                break\n",
    "            else:\n",
    "                logPf2 += logM[code2idx2[self.ciphertext[idx]], code2idx2[self.ciphertext[idx-1]]]\n",
    "        return logPf1, logPf2\n",
    "    \n",
    "    def generate_f(self):\n",
    "        new_b = int(np.random.normal(loc=self.breakpoint, scale=10))\n",
    "        new_b = max(new_b, self.minbs)\n",
    "        new_b = min(new_b, self.maxbs)\n",
    "        \n",
    "        a, b = random.sample(self.alphabet, 2)\n",
    "        new_f1 = self.cur_f1.copy()\n",
    "        new_f1[a] = self.cur_f1[b]\n",
    "        new_f1[b] = self.cur_f1[a]\n",
    "\n",
    "        new_f2 = self.cur_f2.copy()\n",
    "        new_f2[a] = self.cur_f2[b]\n",
    "        new_f2[b] = self.cur_f2[a]\n",
    "\n",
    "\n",
    "#         new_b = random.randint(max(self.minbs, self.breakpoint-10), min(self.maxbs, self.breakpoint+10))\n",
    "\n",
    "        for i, v in new_f1.items():\n",
    "            if(v==27 and i not in self.leftsets[0]):\n",
    "                candidate = random.sample(self.leftsets[0], k=1)[0]\n",
    "                tmp = new_f1[i]\n",
    "                new_f1[i] = new_f1[candidate]\n",
    "                new_f1[candidate] = tmp\n",
    "            if(v==26 and i not in self.leftsets[1]):\n",
    "                candidate = random.sample(self.leftsets[1], k=1)[0]\n",
    "                tmp = new_f1[i]\n",
    "                new_f1[i] = new_f1[candidate]\n",
    "                new_f1[candidate] = tmp\n",
    "        for i, v in new_f2.items():\n",
    "            if(v==27 and i not in self.rightsets[0]):\n",
    "                candidate = random.sample(self.rightsets[0], k=1)[0]\n",
    "                tmp = new_f1[i]\n",
    "                new_f1[i] = new_f1[candidate]\n",
    "                new_f1[candidate] = tmp\n",
    "            if(v==26 and i not in self.rightsets[1]):\n",
    "                candidate = random.sample(self.rightsets[1], k=1)[0]\n",
    "                tmp = new_f1[i]\n",
    "                new_f1[i] = new_f1[candidate]\n",
    "                new_f1[candidate] = tmp\n",
    "        return new_f1, new_f2, new_b\n",
    "\n",
    "    def checkvalid(self, content):\n",
    "        transition = collections.Counter()\n",
    "        for i in self.alphabet:\n",
    "            transition[i] = collections.Counter()\n",
    "        for i in range(1, len(content), 1): #including /n\n",
    "            transition[content[i-1]][content[i]] += 1\n",
    "        \n",
    "        valid = False\n",
    "        \n",
    "        notrepeat = [] # ' ' & '.'\n",
    "        for a in self.alphabet:\n",
    "            if(transition[a][a]==0):\n",
    "                notrepeat.append(a)\n",
    "                \n",
    "        set1 = [] # \" \"\n",
    "        set2 = [] # \".\"\n",
    "        for a in notrepeat:\n",
    "            if(len(transition[a])==0):\n",
    "                set2.append(a)\n",
    "            elif(len(transition[a])==1 and list(transition[a].keys())[0] in notrepeat):\n",
    "                set1.append(list(transition[a].keys())[0])\n",
    "                set2.append(a)\n",
    "                \n",
    "        if(len(transition)==28): # All the char have occurred. So we must have a \". \" pair.\n",
    "            return set2, set1\n",
    "        else:\n",
    "            return set2, notrepeat\n",
    "    \n",
    "\n",
    "            \n",
    "    \n",
    "    def decode(self):\n",
    "        s = \"\"\n",
    "        for c in range(self.breakpoint):\n",
    "            s += self.idx2alpha[self.cur_f1[self.ciphertext[c]]]\n",
    "        for c in range(self.breakpoint, len(self.ciphertext), 1):\n",
    "            s += self.idx2alpha[self.cur_f2[self.ciphertext[c]]]\n",
    "        return s\n",
    "    \n",
    "    def accuracy(self, answer):\n",
    "        s = 0\n",
    "        assert len(self.ciphertext)==len(answer), \"answer length not align\"\n",
    "        for c in range(self.breakpoint):\n",
    "            if (self.idx2alpha[self.cur_f1[self.ciphertext[c]]]==answer[c]):\n",
    "                s += 1\n",
    "        for c in range(self.breakpoint, len(self.ciphertext), 1):\n",
    "            if (self.idx2alpha[self.cur_f2[self.ciphertext[c]]]==answer[c]):\n",
    "                s += 1\n",
    "#         print(\"Accuracy {}/{}\".format(s, len(self.ciphertext)))\n",
    "        return s\n",
    "        \n",
    "    def accept(self, newscore, oldscore):\n",
    "        accept_bool = False\n",
    "        if newscore == \"not exist\" and oldscore == \"not exist\":\n",
    "            if random.random()<0.5:\n",
    "                accept_bool = True\n",
    "        elif oldscore == \"not exist\":\n",
    "            accept_bool = True\n",
    "        elif newscore == \"not exist\":\n",
    "            pass\n",
    "        elif (newscore-oldscore) > 5: # speed up for np.exp\n",
    "            accept_bool = True\n",
    "        elif random.random()<min(1, np.exp(newscore-oldscore)):\n",
    "            accept_bool = True\n",
    "        return accept_bool\n",
    "                \n",
    "        \n",
    "        \n",
    "    def run(self, n=5000, printacc=True):\n",
    "        start_time = time.time()\n",
    "        loglikelihood = []\n",
    "        times = []\n",
    "        acc = []\n",
    "        accepted = []\n",
    "        for t in range(n):\n",
    "            new_f1, new_f2, new_b = self.generate_f()\n",
    "            pfnew_f1, pfnew_f2 = self.Pf(new_f1, new_f2, new_b)\n",
    "            pfold_f1, pfold_f2 = self.Pf(self.cur_f1, self.cur_f2, self.breakpoint)\n",
    "            \n",
    "                \n",
    "            if self.accept(newscore=pfnew_f1, oldscore=pfold_f1):\n",
    "                self.cur_f1 = new_f1\n",
    "            if self.accept(newscore=pfnew_f2, oldscore=pfold_f2):\n",
    "                self.cur_f2 = new_f2\n",
    "                \n",
    "            if pfnew_f1 == \"not exist\" or pfnew_f2 == \"not exist\":\n",
    "                pfnew_b = \"not exist\"\n",
    "            else:\n",
    "                pfnew_b = pfnew_f1 * pfnew_f2\n",
    "            if pfold_f1 == \"not exist\" or pfold_f2 == \"not exist\":\n",
    "                pfold_b = \"not exist\"\n",
    "            else:\n",
    "                pfold_b = pfold_f1 * pfold_f2\n",
    "            if self.accept(newscore=pfnew_b, oldscore=pfold_b):\n",
    "                self.breakpoint = new_b\n",
    "    \n",
    "            if self.Pf(self.cur_f1, self.cur_f2, self.breakpoint) != \"not exist\":\n",
    "                times.append(t)\n",
    "                loglikelihood.append(self.Pf(self.cur_f1, self.cur_f2, self.breakpoint))\n",
    "                acc.append(self.accuracy(self.answer)/len(self.ciphertext))\n",
    "            else:\n",
    "                times.append(math.nan)\n",
    "                loglikelihood.append(math.nan)\n",
    "                acc.append(math.nan)\n",
    "                \n",
    "            if printacc:\n",
    "                if ((t+1)%500==0):\n",
    "                    print(self.breakpoint)\n",
    "                    print(self.cur_f1)\n",
    "                    print(self.cur_f2)\n",
    "                    print(\"Accuracy {}/{}, Log-Liklihood {}, time {} ({}/{})\".format(self.accuracy(self.answer), len(self.answer), self.Pf(self.cur_f1, self.cur_f2, self.breakpoint), time.time()-start_time, t+1, n))\n",
    "        return times, loglikelihood, acc, accepted"
   ]
  },
  {
   "cell_type": "code",
   "execution_count": 90,
   "metadata": {
    "ExecuteTime": {
     "end_time": "2019-05-07T21:55:47.627234Z",
     "start_time": "2019-05-07T21:54:51.721764Z"
    },
    "code_folding": []
   },
   "outputs": [
    {
     "name": "stdout",
     "output_type": "stream",
     "text": [
      "Breakpoints 1119 1137\n",
      "(['b', 'e', 'f', 'y'], ['u', 'z'])\n",
      "(['d', 'o', 'q'], ['j', 'a'])\n",
      "1119\n",
      "{'d': 8, 't': 13, 'e': 16, 'o': 3, 'l': 15, 'i': 5, 'k': 12, 'c': 4, 'b': 25, 'x': 24, 'z': 26, 'r': 1, 'y': 27, 'a': 23, 'm': 11, 'h': 0, 's': 9, '.': 10, 'q': 6, 'v': 14, 'g': 19, 'p': 22, 'j': 18, 'u': 20, ' ': 17, 'w': 7, 'n': 2, 'f': 21}\n",
      "{'d': 16, 't': 2, 'e': 8, 'o': 27, 'l': 23, 'i': 24, 'k': 17, 'c': 0, 'b': 13, 'x': 18, 'z': 11, 'r': 6, 'y': 12, 'a': 26, 'm': 14, 'h': 5, 's': 15, '.': 19, 'q': 9, 'v': 7, 'g': 3, 'p': 10, 'j': 20, 'u': 4, ' ': 21, 'w': 25, 'n': 1, 'f': 22}\n",
      "Accuracy 5198/5287, Log-Liklihood (-2742.80689194385, -9908.87325267249), time 14.390286922454834 (500/2000)\n",
      "1129\n",
      "{'d': 8, 't': 13, 'e': 16, 'o': 6, 'l': 5, 'i': 15, 'k': 22, 'c': 4, 'b': 25, 'x': 24, 'z': 26, 'r': 1, 'y': 27, 'a': 23, 'm': 11, 'h': 0, 's': 21, '.': 10, 'q': 3, 'v': 14, 'g': 19, 'p': 12, 'j': 18, 'u': 20, ' ': 17, 'w': 7, 'n': 2, 'f': 9}\n",
      "{'d': 16, 't': 2, 'e': 8, 'o': 27, 'l': 9, 'i': 24, 'k': 17, 'c': 0, 'b': 13, 'x': 18, 'z': 11, 'r': 6, 'y': 12, 'a': 26, 'm': 14, 'h': 5, 's': 15, '.': 19, 'q': 23, 'v': 7, 'g': 3, 'p': 10, 'j': 20, 'u': 4, ' ': 21, 'w': 25, 'n': 1, 'f': 22}\n",
      "Accuracy 5165/5287, Log-Liklihood (-2785.979418735283, -9896.10647564558), time 27.618978261947632 (1000/2000)\n",
      "1119\n",
      "{'d': 8, 't': 13, 'e': 25, 'o': 6, 'l': 15, 'i': 5, 'k': 12, 'c': 4, 'b': 16, 'x': 24, 'z': 26, 'r': 21, 'y': 27, 'a': 23, 'm': 11, 'h': 0, 's': 10, '.': 1, 'q': 3, 'v': 14, 'g': 19, 'p': 22, 'j': 18, 'u': 20, ' ': 17, 'w': 7, 'n': 2, 'f': 9}\n",
      "{'d': 16, 't': 2, 'e': 8, 'o': 27, 'l': 25, 'i': 24, 'k': 17, 'c': 0, 'b': 13, 'x': 18, 'z': 11, 'r': 6, 'y': 12, 'a': 26, 'm': 14, 'h': 5, 's': 15, '.': 19, 'q': 9, 'v': 7, 'g': 3, 'p': 10, 'j': 20, 'u': 4, ' ': 21, 'w': 23, 'n': 1, 'f': 22}\n",
      "Accuracy 5236/5287, Log-Liklihood (-2746.347097827063, -9961.398042626868), time 41.23586893081665 (1500/2000)\n",
      "1131\n",
      "{'d': 8, 't': 13, 'e': 9, 'o': 6, 'l': 15, 'i': 5, 'k': 12, 'c': 4, 'b': 1, 'x': 24, 'z': 26, 'r': 21, 'y': 27, 'a': 23, 'm': 11, 'h': 0, 's': 16, '.': 10, 'q': 3, 'v': 14, 'g': 19, 'p': 22, 'j': 18, 'u': 20, ' ': 17, 'w': 7, 'n': 2, 'f': 25}\n",
      "{'d': 16, 't': 2, 'e': 8, 'o': 27, 'l': 23, 'i': 24, 'k': 17, 'c': 0, 'b': 13, 'x': 18, 'z': 11, 'r': 6, 'y': 12, 'a': 26, 'm': 14, 'h': 5, 's': 15, '.': 19, 'q': 25, 'v': 7, 'g': 3, 'p': 10, 'j': 20, 'u': 4, ' ': 21, 'w': 9, 'n': 1, 'f': 22}\n",
      "Accuracy 5246/5287, Log-Liklihood (-2777.8974685961393, -9872.743002689933), time 55.820863008499146 (2000/2000)\n"
     ]
    }
   ],
   "source": [
    "random.seed(21)\n",
    "mcmc = MCMC_B(ciphertext=ciphertext, answer=plaintext, f1=single_f1, f2=single_f2)\n",
    "# mcmc.checkvalid(ciphertext[:1120])\n",
    "times, loglikelihood, acc, accepted = mcmc.run(n=2000)"
   ]
  },
  {
   "cell_type": "code",
   "execution_count": 91,
   "metadata": {
    "ExecuteTime": {
     "end_time": "2019-05-07T21:56:09.152848Z",
     "start_time": "2019-05-07T21:56:09.140572Z"
    },
    "code_folding": [],
    "scrolled": false
   },
   "outputs": [
    {
     "name": "stdout",
     "output_type": "stream",
     "text": [
      "1131\n"
     ]
    },
    {
     "data": {
      "text/plain": [
       "'chapter i well prince so genoa and lucca are now just family estates of the vuonapartes. vut i warn you if you dont tell me that this means war if you still try to defend the infamies and horrors perpetrated vy that antichristi really velieke he is antichristi will hake nothing more to do with you and you are no longer my friend no longer my faithful slake as you call yourself vut how do you do i see i hake frightened yousit down and tell me all the news. it was in july and the speaqer was the wellqnown anna paklokna scherer maid of honor and fakorite of the empress marya fedorokna. with these words she greeted prince kasili quragin a man of high ranq and importance who was the first to arrike at her reception. anna paklokna had had a cough for some days. she was as she said suffering from la grippe grippe veing then a new word in st. petersvurg used only vy the elite. all her inkitations without exception written in french and delikered vy a scarletlikeried footman that morning ran as follows if you hake nothing vetter to do count or prince and if the prospect of spending an ekening with a poor inkalid is not tll terrible i shall be very charmed to see you tonight between and annette scherer. heavens what a virulent attack replied the prince not in the least disconcerted by this reception. he had qust entered wearing an embroidered court uniform knee breeches and shoes and had stars on his breast and a serene expression on his flat face. he spoke in that refined french in which our grandfathers not only spoke but thought and with the gentle patronijing intonation natural to a man of importance who had grown old in society and at court. he went up to anna pavlovna kissed her hand presenting to her his bald scented and shining head and complacently seated himself on the sofa. first of all dear friend tell me how you are. set your friends mind at rest said he without altering his tone beneath the politeness and affected sympathy of which indifference and even irony could be discerned. can one be well while suffering morally can one be calm in times like these if one has any feeling said anna pavlovna. you are staying the whole evening i hope and the fete at the english ambassadors today is wednesday. i must put in an appearance there said the prince. my daughter is coming for me to take me there. i thought todays fete had been canceled. i confess all these festivities and fireworks are becoming wearisome. if they had known that you wished it the entertainment would have been put off said the prince who like a woundup clock by force of habit said things he did not even wish to be believed. dont tease well and what has been decided about novosiltsevs dispatch you know everything. what can one say about it replied the prince in a cold listless tone. what has been decided they have decided that buonaparte has burnt his boats and i believe that we are ready to burn ours. prince vasili always spoke languidly like an actor repeating a stale part. anna pavlovna scherer on the contrary despite her forty years overflowed with animation and impulsiveness. to be an enthusiast had become her social vocation and sometimes even when she did not feel like it she became enthusiastic in order not to disappoint the expectations of those who knew her. the subdued smile which though it did not suit her faded features always played round her lips expressed as in a spoiled child a continual consciousness of her charming defect which she neither wished nor could nor considered it necessary to correct. in the midst of a conversation on political matters anna pavlovna burst out oh dont speak to me of austria. perhaps i dont understand things but austria never has wished and does not wish for war. she is betraying us russia alone must save europe. our gracious sovereign recognijes his high vocation and will be true to it. that is the one thing i have faith in our good and wonderful sovereign has to perform the noblest role on earth and he is so virtuous and noble that god will not forsake him. he will fulfill his vocation and crush the hydra of revolution which has become more terrible than ever in the person of this murderer and villain we alone must avenge the blood of the qust one. whom i ask you can we rely on. england with her commercial spirit will not and cannot understand the emperor alexanders loftiness of soul. she has refused to evacuate malta. she wanted to find and still seeks some secret motive in our actions. what answer did novosiltsev get none. the english have not understood and cannot understand the selfabnegation of our emperor who wants nothing for himself but only desires the good of mankind. and what have they promised nothing and what little they have promised they will not perform prussia has always declared that buonaparte is invincible and that all europe is powerless before him. and i dont believe a word that hardenburg says or haugwitj either. this famous prussian neutrality is qust a trap. i have faith only in god and the lofty destiny of our adored monarch. he will save europe she suddenly paused smiling at her own impetuosity. i think said the prince with a smile that if you had been sent instead of our dear wintjingerode you would have captured the king of prussias consent by assault.'"
      ]
     },
     "execution_count": 91,
     "metadata": {},
     "output_type": "execute_result"
    }
   ],
   "source": [
    "print(mcmc.breakpoint)\n",
    "mcmc.decode()"
   ]
  },
  {
   "cell_type": "markdown",
   "metadata": {},
   "source": [
    "# Plots"
   ]
  },
  {
   "cell_type": "code",
   "execution_count": 12,
   "metadata": {
    "ExecuteTime": {
     "end_time": "2019-05-07T20:54:07.621590Z",
     "start_time": "2019-05-07T20:54:07.302518Z"
    }
   },
   "outputs": [
    {
     "data": {
      "image/png": "[encoded data removed]",
      "text/plain": [
       "<Figure size 432x288 with 1 Axes>"
      ]
     },
     "metadata": {
      "needs_background": "light"
     },
     "output_type": "display_data"
    }
   ],
   "source": [
    "sns.lineplot(y=loglikelihood, x=times)\n",
    "plt.title(\"Problem 3 (a)\")\n",
    "plt.xlabel(\"Iteration\")\n",
    "plt.ylabel(\"Log-Likelihood of the Accepted State\")\n",
    "plt.savefig(\"3a.pdf\")"
   ]
  },
  {
   "cell_type": "code",
   "execution_count": 128,
   "metadata": {
    "ExecuteTime": {
     "end_time": "2019-04-30T05:38:50.808835Z",
     "start_time": "2019-04-30T05:38:50.202577Z"
    }
   },
   "outputs": [
    {
     "data": {
      "image/png": "[encoded data removed]",
      "text/plain": [
       "<Figure size 432x288 with 1 Axes>"
      ]
     },
     "metadata": {},
     "output_type": "display_data"
    }
   ],
   "source": [
    "local_accepted = []\n",
    "T = 40\n",
    "for i in range(len(accepted)):\n",
    "    local_accepted.append(np.sum(accepted[max(0, i-T):min(i+T, len(accepted)-1)])/2./T)\n",
    "sns.lineplot(y=local_accepted, x=times)\n",
    "plt.title(\"Problem 3 (b)\")\n",
    "plt.xlabel(\"Iteration\")\n",
    "plt.ylabel(\"Acceptance Rate of State Transitions\")\n",
    "plt.savefig(\"3b.pdf\")"
   ]
  },
  {
   "cell_type": "code",
   "execution_count": 129,
   "metadata": {
    "ExecuteTime": {
     "end_time": "2019-04-30T05:38:51.401548Z",
     "start_time": "2019-04-30T05:38:50.852032Z"
    }
   },
   "outputs": [
    {
     "data": {
      "image/png": "[encoded data removed]",
      "text/plain": [
       "<Figure size 432x288 with 1 Axes>"
      ]
     },
     "metadata": {},
     "output_type": "display_data"
    }
   ],
   "source": [
    "sns.lineplot(y=acc, x=times)\n",
    "plt.title(\"Problem 3 (c)\")\n",
    "plt.xlabel(\"Iteration\")\n",
    "plt.ylabel(\"Accuracy Rate\")\n",
    "plt.savefig(\"3c.pdf\")"
   ]
  },
  {
   "cell_type": "markdown",
   "metadata": {
    "ExecuteTime": {
     "end_time": "2019-04-30T05:26:27.402775Z",
     "start_time": "2019-04-30T05:26:27.397845Z"
    }
   },
   "source": [
    "# Run in Small Segments"
   ]
  },
  {
   "cell_type": "code",
   "execution_count": 146,
   "metadata": {
    "ExecuteTime": {
     "end_time": "2019-04-30T06:08:15.097529Z",
     "start_time": "2019-04-30T06:08:15.084162Z"
    }
   },
   "outputs": [
    {
     "data": {
      "text/html": [
       "<div>\n",
       "<style scoped>\n",
       "    .dataframe tbody tr th:only-of-type {\n",
       "        vertical-align: middle;\n",
       "    }\n",
       "\n",
       "    .dataframe tbody tr th {\n",
       "        vertical-align: top;\n",
       "    }\n",
       "\n",
       "    .dataframe thead th {\n",
       "        text-align: right;\n",
       "    }\n",
       "</style>\n",
       "<table border=\"1\" class=\"dataframe\">\n",
       "  <thead>\n",
       "    <tr style=\"text-align: right;\">\n",
       "      <th></th>\n",
       "      <th>Segment Length</th>\n",
       "      <th>Accuracy</th>\n",
       "    </tr>\n",
       "  </thead>\n",
       "  <tbody>\n",
       "  </tbody>\n",
       "</table>\n",
       "</div>"
      ],
      "text/plain": [
       "Empty DataFrame\n",
       "Columns: [Segment Length, Accuracy]\n",
       "Index: []"
      ]
     },
     "execution_count": 146,
     "metadata": {},
     "output_type": "execute_result"
    }
   ],
   "source": [
    "df = pd.DataFrame({\"Segment Length\":[], \"Accuracy\":[]})\n",
    "df"
   ]
  },
  {
   "cell_type": "code",
   "execution_count": 144,
   "metadata": {
    "ExecuteTime": {
     "end_time": "2019-04-30T06:05:37.123098Z",
     "start_time": "2019-04-30T06:01:20.455522Z"
    }
   },
   "outputs": [
    {
     "name": "stderr",
     "output_type": "stream",
     "text": [
      "/usr/local/lib/python3.7/site-packages/ipykernel_launcher.py:75: RuntimeWarning: overflow encountered in exp\n",
      "/usr/local/lib/python3.7/site-packages/ipykernel_launcher.py:75: RuntimeWarning: overflow encountered in exp\n",
      "/usr/local/lib/python3.7/site-packages/ipykernel_launcher.py:75: RuntimeWarning: overflow encountered in exp\n",
      "/usr/local/lib/python3.7/site-packages/ipykernel_launcher.py:75: RuntimeWarning: overflow encountered in exp\n"
     ]
    },
    {
     "name": "stdout",
     "output_type": "stream",
     "text": [
      "5000 1000 1.0\n",
      "5000 500 0.7386759581881533\n",
      "0 500 0.996\n",
      "1000 500 0.998\n",
      "4500 500 0.944\n",
      "3500 500 0.468\n",
      "2000 500 1.0\n",
      "1500 500 0.274\n",
      "3000 500 1.0\n",
      "2500 500 0.98\n",
      "4000 500 0.998\n",
      "500 500 0.056\n",
      "1000 1000 1.0\n",
      "4500 1500 1.0\n",
      "4000 1000 0.32\n",
      "3000 1000 0.311\n",
      "0 1000 0.979\n",
      "2000 1000 1.0\n",
      "0 1500 0.998\n",
      "1500 1500 0.9993333333333333\n",
      "3000 1500 0.9993333333333333\n"
     ]
    },
    {
     "data": {
      "text/plain": [
       "[None,\n",
       " None,\n",
       " None,\n",
       " None,\n",
       " None,\n",
       " None,\n",
       " None,\n",
       " None,\n",
       " None,\n",
       " None,\n",
       " None,\n",
       " None,\n",
       " None,\n",
       " None,\n",
       " None,\n",
       " None,\n",
       " None,\n",
       " None,\n",
       " None,\n",
       " None,\n",
       " None]"
      ]
     },
     "execution_count": 144,
     "metadata": {},
     "output_type": "execute_result"
    }
   ],
   "source": [
    "def run(l):\n",
    "    i, K = l\n",
    "    con = ciphertext[i:i+K]\n",
    "    ans = plaintext[i:i+K]\n",
    "    mcmc = MCMC(alphabet=Alphabet, ciphertext=con, answer=ans)\n",
    "    times, loglikelihood, acc, accepted = mcmc.run(10000, printacc=False)\n",
    "    #df.append(pd.DataFrame({\"Segment Length\":[K], \"Accuracy\":[acc[-1]]}))\n",
    "    print(i, K, acc[-1])\n",
    "\n",
    "l = []\n",
    "for K in [500, 1000, 1500]:\n",
    "    for i in range(0, len(ciphertext), K):\n",
    "        l.append([i, K])\n",
    "pool = Pool(30)                         # Create a multiprocessing Pool\n",
    "pool.map(run, l)"
   ]
  },
  {
   "cell_type": "code",
   "execution_count": 174,
   "metadata": {
    "ExecuteTime": {
     "end_time": "2019-04-30T06:13:57.752829Z",
     "start_time": "2019-04-30T06:13:57.673266Z"
    }
   },
   "outputs": [
    {
     "data": {
      "text/html": [
       "<div>\n",
       "<style scoped>\n",
       "    .dataframe tbody tr th:only-of-type {\n",
       "        vertical-align: middle;\n",
       "    }\n",
       "\n",
       "    .dataframe tbody tr th {\n",
       "        vertical-align: top;\n",
       "    }\n",
       "\n",
       "    .dataframe thead th {\n",
       "        text-align: right;\n",
       "    }\n",
       "</style>\n",
       "<table border=\"1\" class=\"dataframe\">\n",
       "  <thead>\n",
       "    <tr style=\"text-align: right;\">\n",
       "      <th></th>\n",
       "      <th>Segment Length</th>\n",
       "      <th>Accuracy</th>\n",
       "    </tr>\n",
       "  </thead>\n",
       "  <tbody>\n",
       "    <tr>\n",
       "      <th>0</th>\n",
       "      <td>1000</td>\n",
       "      <td>1.000000</td>\n",
       "    </tr>\n",
       "    <tr>\n",
       "      <th>0</th>\n",
       "      <td>500</td>\n",
       "      <td>0.738676</td>\n",
       "    </tr>\n",
       "    <tr>\n",
       "      <th>0</th>\n",
       "      <td>500</td>\n",
       "      <td>0.996000</td>\n",
       "    </tr>\n",
       "    <tr>\n",
       "      <th>0</th>\n",
       "      <td>500</td>\n",
       "      <td>0.998000</td>\n",
       "    </tr>\n",
       "    <tr>\n",
       "      <th>0</th>\n",
       "      <td>500</td>\n",
       "      <td>0.944000</td>\n",
       "    </tr>\n",
       "  </tbody>\n",
       "</table>\n",
       "</div>"
      ],
      "text/plain": [
       "   Segment Length  Accuracy\n",
       "0            1000  1.000000\n",
       "0             500  0.738676\n",
       "0             500  0.996000\n",
       "0             500  0.998000\n",
       "0             500  0.944000"
      ]
     },
     "execution_count": 174,
     "metadata": {},
     "output_type": "execute_result"
    }
   ],
   "source": [
    "with open(\"3d.txt\", \"r\") as f:\n",
    "    for line in f.readlines():\n",
    "        segs = line.split()\n",
    "        df = df.append(pd.DataFrame({\"Segment Length\":[int(segs[1])], \"Accuracy\":[float(segs[2])]}))\n",
    "df[\"Segment Length\"] = np.array(df[\"Segment Length\"]).astype(np.int)\n",
    "df[\"Accuracy\"] = np.array(df[\"Accuracy\"]).astype(np.float)\n",
    "df.head()"
   ]
  },
  {
   "cell_type": "code",
   "execution_count": 177,
   "metadata": {
    "ExecuteTime": {
     "end_time": "2019-04-30T06:14:52.997620Z",
     "start_time": "2019-04-30T06:14:52.730333Z"
    }
   },
   "outputs": [
    {
     "data": {
      "image/png": "[encoded data removed]",
      "text/plain": [
       "<Figure size 432x288 with 1 Axes>"
      ]
     },
     "metadata": {},
     "output_type": "display_data"
    }
   ],
   "source": [
    "sns.boxplot(x=\"Segment Length\", y=\"Accuracy\", data=df)\n",
    "plt.title(\"Boxplot for Segments with Size 500, 1000, and 1500\")\n",
    "plt.savefig(\"3d.pdf\")"
   ]
  },
  {
   "cell_type": "code",
   "execution_count": 160,
   "metadata": {
    "ExecuteTime": {
     "end_time": "2019-04-30T06:11:18.705058Z",
     "start_time": "2019-04-30T06:11:18.699743Z"
    }
   },
   "outputs": [
    {
     "data": {
      "text/plain": [
       "['Segment Length', 'Accuracy']"
      ]
     },
     "execution_count": 160,
     "metadata": {},
     "output_type": "execute_result"
    }
   ],
   "source": [
    "list(df)"
   ]
  },
  {
   "cell_type": "markdown",
   "metadata": {},
   "source": [
    "# Steady-State Value"
   ]
  },
  {
   "cell_type": "code",
   "execution_count": 195,
   "metadata": {
    "ExecuteTime": {
     "end_time": "2019-04-30T06:32:38.724883Z",
     "start_time": "2019-04-30T06:32:38.717860Z"
    }
   },
   "outputs": [
    {
     "data": {
      "text/plain": [
       "-3.426198665466389"
      ]
     },
     "execution_count": 195,
     "metadata": {},
     "output_type": "execute_result"
    }
   ],
   "source": [
    "loglikelihood[-1]/math.log(2, math.e)/len(ciphertext)"
   ]
  },
  {
   "cell_type": "code",
   "execution_count": 189,
   "metadata": {
    "ExecuteTime": {
     "end_time": "2019-04-30T06:31:30.230320Z",
     "start_time": "2019-04-30T06:31:30.223315Z"
    }
   },
   "outputs": [
    {
     "data": {
      "text/plain": [
       "2.0"
      ]
     },
     "execution_count": 189,
     "metadata": {},
     "output_type": "execute_result"
    }
   ],
   "source": [
    "math.log(4, 2)"
   ]
  },
  {
   "cell_type": "code",
   "execution_count": 207,
   "metadata": {
    "ExecuteTime": {
     "end_time": "2019-04-30T06:39:41.668177Z",
     "start_time": "2019-04-30T06:39:41.656976Z"
    }
   },
   "outputs": [
    {
     "data": {
      "text/plain": [
       "-5.176798462822324"
      ]
     },
     "execution_count": 207,
     "metadata": {},
     "output_type": "execute_result"
    }
   ],
   "source": [
    "H = 0\n",
    "for i in range(28):\n",
    "    for j in range(28):\n",
    "        if(P[i]!=0 and M[j, i]!=0):\n",
    "            H += (P[i]*M[j, i])*math.log(P[i]*M[j, i])\n",
    "H"
   ]
  },
  {
   "cell_type": "code",
   "execution_count": 191,
   "metadata": {
    "ExecuteTime": {
     "end_time": "2019-04-30T06:31:48.280456Z",
     "start_time": "2019-04-30T06:31:48.274389Z"
    }
   },
   "outputs": [
    {
     "data": {
      "text/plain": [
       "1.0"
      ]
     },
     "execution_count": 191,
     "metadata": {},
     "output_type": "execute_result"
    }
   ],
   "source": [
    "math.log(math.e)"
   ]
  },
  {
   "cell_type": "code",
   "execution_count": 107,
   "metadata": {
    "ExecuteTime": {
     "end_time": "2019-05-07T22:45:03.041607Z",
     "start_time": "2019-05-07T22:44:52.990296Z"
    }
   },
   "outputs": [
    {
     "name": "stdout",
     "output_type": "stream",
     "text": [
      "start_time 1103.352337\n",
      "t:  1103.353142\t0.0008049999999002466 lol seconds\n",
      "t:  1103.353287\t0.0009499999998752173 lol seconds\n"
     ]
    },
    {
     "name": "stderr",
     "output_type": "stream",
     "text": [
      "/usr/local/lib/python3.7/site-packages/ipykernel_launcher.py:7: DeprecationWarning: time.clock has been deprecated in Python 3.3 and will be removed from Python 3.8: use time.perf_counter or time.process_time instead\n",
      "  import sys\n",
      "/usr/local/lib/python3.7/site-packages/ipykernel_launcher.py:12: DeprecationWarning: time.clock has been deprecated in Python 3.3 and will be removed from Python 3.8: use time.perf_counter or time.process_time instead\n",
      "  if sys.path[0] == '':\n"
     ]
    },
    {
     "name": "stdout",
     "output_type": "stream",
     "text": [
      "1 5.0000011920928955\n",
      "2 5.0000011920928955\n"
     ]
    }
   ],
   "source": [
    "from __future__ import print_function\n",
    "\n",
    "import time\n",
    "import multiprocessing\n",
    "\n",
    "data = range(1, 3)\n",
    "start_time = time.clock()\n",
    "\n",
    "\n",
    "def lol():\n",
    "    for i in data:\n",
    "        t = time.clock()\n",
    "        print('t: ', t, end='\\t')\n",
    "        print(t - start_time, \"lol seconds\")\n",
    "\n",
    "\n",
    "def worker(n):\n",
    "    start_time = time.time()\n",
    "    while(time.time()-start_time<5):\n",
    "        pass\n",
    "    \n",
    "    print(n, time.time()-start_time)\n",
    "\n",
    "\n",
    "if __name__ == '__main__':\n",
    "    print('start_time', start_time)\n",
    "    lol()\n",
    "    p = multiprocessing.Pool(1)\n",
    "    p.map(worker, data)"
   ]
  },
  {
   "cell_type": "code",
   "execution_count": null,
   "metadata": {},
   "outputs": [],
   "source": []
  }
 ],
 "metadata": {
  "kernelspec": {
   "display_name": "Python 3",
   "language": "python",
   "name": "python3"
  },
  "language_info": {
   "codemirror_mode": {
    "name": "ipython",
    "version": 3
   },
   "file_extension": ".py",
   "mimetype": "text/x-python",
   "name": "python",
   "nbconvert_exporter": "python",
   "pygments_lexer": "ipython3",
   "version": "3.7.2"
  },
  "toc": {
   "base_numbering": 1,
   "nav_menu": {},
   "number_sections": true,
   "sideBar": true,
   "skip_h1_title": false,
   "title_cell": "Table of Contents",
   "title_sidebar": "Contents",
   "toc_cell": false,
   "toc_position": {},
   "toc_section_display": true,
   "toc_window_display": true
  },
  "varInspector": {
   "cols": {
    "lenName": 16,
    "lenType": 16,
    "lenVar": 40
   },
   "kernels_config": {
    "python": {
     "delete_cmd_postfix": "",
     "delete_cmd_prefix": "del ",
     "library": "var_list.py",
     "varRefreshCmd": "print(var_dic_list())"
    },
    "r": {
     "delete_cmd_postfix": ") ",
     "delete_cmd_prefix": "rm(",
     "library": "var_list.r",
     "varRefreshCmd": "cat(var_dic_list()) "
    }
   },
   "types_to_exclude": [
    "module",
    "function",
    "builtin_function_or_method",
    "instance",
    "_Feature"
   ],
   "window_display": false
  }
 },
 "nbformat": 4,
 "nbformat_minor": 2
}
