{
 "cells": [
  {
   "cell_type": "markdown",
   "metadata": {},
   "source": [
    "http://scrabble.merriam.com/words/with/z"
   ]
  },
  {
   "cell_type": "code",
   "execution_count": 18,
   "metadata": {
    "ExecuteTime": {
     "end_time": "2019-05-08T02:39:20.937160Z",
     "start_time": "2019-05-08T02:39:20.934094Z"
    }
   },
   "outputs": [],
   "source": [
    "import requests, pickle\n",
    "from bs4 import BeautifulSoup\n",
    "\n",
    "fakeHeaders = {'user-agent':'Mozilla/5.0'}\n",
    "proxies = { \"http\": \"http://10.10.1.10:3128\", \"https\": \"http://10.10.1.10:1080\", }"
   ]
  },
  {
   "cell_type": "code",
   "execution_count": 31,
   "metadata": {
    "ExecuteTime": {
     "end_time": "2019-05-08T03:08:12.571589Z",
     "start_time": "2019-05-08T03:08:05.376161Z"
    }
   },
   "outputs": [
    {
     "name": "stdout",
     "output_type": "stream",
     "text": [
      "https://www.thefreedictionary.com/words-containing-z 1816\n",
      "https://www.thefreedictionary.com/words-containing-j 1451\n",
      "https://www.thefreedictionary.com/words-containing-k 1761\n",
      "https://www.thefreedictionary.com/words-containing-q 1467\n",
      "https://www.thefreedictionary.com/words-containing-x 1777\n",
      "https://www.thefreedictionary.com/words-containing-z 1816\n"
     ]
    }
   ],
   "source": [
    "def run(url):\n",
    "    words = []\n",
    "    response = requests.get(url, headers = fakeHeaders, timeout=30)\n",
    "    soup = BeautifulSoup(response.content, features=\"html.parser\", from_encoding=\"gb18030\")\n",
    "    table = soup.findAll(\"div\", {\"class\" :\"TCont\"})[0]\n",
    "    for i in table.findAll('a'):\n",
    "        words.append(i.text)\n",
    "    print(url, len(words))\n",
    "    return words\n",
    "\n",
    "run(\"https://www.thefreedictionary.com/words-containing-z\")\n",
    "words_all = {}\n",
    "for x in ['j', 'k', 'q', 'x', 'z']:\n",
    "    words_all[x] = run(\"https://www.thefreedictionary.com/words-containing-\"+x)"
   ]
  },
  {
   "cell_type": "code",
   "execution_count": 33,
   "metadata": {
    "ExecuteTime": {
     "end_time": "2019-05-08T04:07:18.457308Z",
     "start_time": "2019-05-08T04:07:18.430347Z"
    }
   },
   "outputs": [],
   "source": [
    "with open(\"words.pickle\", \"wb\") as f:\n",
    "    pickle.dump(obj=words_all, file=f, protocol=2)"
   ]
  },
  {
   "cell_type": "code",
   "execution_count": null,
   "metadata": {},
   "outputs": [],
   "source": []
  }
 ],
 "metadata": {
  "kernelspec": {
   "display_name": "Python 3",
   "language": "python",
   "name": "python3"
  },
  "language_info": {
   "codemirror_mode": {
    "name": "ipython",
    "version": 3
   },
   "file_extension": ".py",
   "mimetype": "text/x-python",
   "name": "python",
   "nbconvert_exporter": "python",
   "pygments_lexer": "ipython3",
   "version": "3.7.2"
  },
  "toc": {
   "base_numbering": 1,
   "nav_menu": {},
   "number_sections": true,
   "sideBar": true,
   "skip_h1_title": false,
   "title_cell": "Table of Contents",
   "title_sidebar": "Contents",
   "toc_cell": false,
   "toc_position": {},
   "toc_section_display": true,
   "toc_window_display": false
  },
  "varInspector": {
   "cols": {
    "lenName": 16,
    "lenType": 16,
    "lenVar": 40
   },
   "kernels_config": {
    "python": {
     "delete_cmd_postfix": "",
     "delete_cmd_prefix": "del ",
     "library": "var_list.py",
     "varRefreshCmd": "print(var_dic_list())"
    },
    "r": {
     "delete_cmd_postfix": ") ",
     "delete_cmd_prefix": "rm(",
     "library": "var_list.r",
     "varRefreshCmd": "cat(var_dic_list()) "
    }
   },
   "types_to_exclude": [
    "module",
    "function",
    "builtin_function_or_method",
    "instance",
    "_Feature"
   ],
   "window_display": false
  }
 },
 "nbformat": 4,
 "nbformat_minor": 2
}
