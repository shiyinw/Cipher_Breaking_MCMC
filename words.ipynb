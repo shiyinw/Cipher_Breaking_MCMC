{
 "cells": [
  {
   "cell_type": "markdown",
   "metadata": {},
   "source": [
    "http://scrabble.merriam.com/words/with/z"
   ]
  },
  {
   "cell_type": "code",
   "execution_count": 8,
   "metadata": {
    "ExecuteTime": {
     "end_time": "2019-05-08T02:39:20.937160Z",
     "start_time": "2019-05-08T02:39:20.934094Z"
    }
   },
   "outputs": [],
   "source": [
    "import requests, pickle\n",
    "from bs4 import BeautifulSoup\n",
    "import collections\n",
    "\n",
    "fakeHeaders = {'user-agent':'Mozilla/5.0'}\n",
    "proxies = { \"http\": \"http://10.10.1.10:3128\", \"https\": \"http://10.10.1.10:1080\", }"
   ]
  },
  {
   "cell_type": "code",
   "execution_count": 4,
   "metadata": {
    "ExecuteTime": {
     "end_time": "2019-05-08T03:08:12.571589Z",
     "start_time": "2019-05-08T03:08:05.376161Z"
    }
   },
   "outputs": [
    {
     "name": "stdout",
     "output_type": "stream",
     "text": [
      "https://www.thefreedictionary.com/words-containing-z 1816\n",
      "https://www.thefreedictionary.com/words-containing-j 1451\n",
      "https://www.thefreedictionary.com/words-containing-k 1761\n",
      "https://www.thefreedictionary.com/words-containing-q 1467\n",
      "https://www.thefreedictionary.com/words-containing-x 1777\n",
      "https://www.thefreedictionary.com/words-containing-z 1816\n"
     ]
    }
   ],
   "source": [
    "def run(url):\n",
    "    words = []\n",
    "    response = requests.get(url, headers = fakeHeaders, timeout=30)\n",
    "    soup = BeautifulSoup(response.content, features=\"html.parser\", from_encoding=\"gb18030\")\n",
    "    table = soup.findAll(\"div\", {\"class\" :\"TCont\"})[0]\n",
    "    for i in table.findAll('a'):\n",
    "        words.append(i.text)\n",
    "    print(url, len(words))\n",
    "    return words\n",
    "\n",
    "\n",
    "words_all = {}\n",
    "for x in ['j', 'k', 'q', 'x', 'z']:\n",
    "    words_all[x] = run(\"https://www.thefreedictionary.com/words-containing-\"+x)"
   ]
  },
  {
   "cell_type": "code",
   "execution_count": 33,
   "metadata": {
    "ExecuteTime": {
     "end_time": "2019-05-08T04:07:18.457308Z",
     "start_time": "2019-05-08T04:07:18.430347Z"
    }
   },
   "outputs": [],
   "source": [
    "with open(\"words.pickle\", \"wb\") as f:\n",
    "    pickle.dump(obj=words_all, file=f, protocol=2)"
   ]
  },
  {
   "cell_type": "code",
   "execution_count": 6,
   "metadata": {},
   "outputs": [
    {
     "name": "stdout",
     "output_type": "stream",
     "text": [
      "https://www.thefreedictionary.com/words-containing-a 2372\n",
      "https://www.thefreedictionary.com/words-containing-b 2030\n",
      "https://www.thefreedictionary.com/words-containing-c 2307\n",
      "https://www.thefreedictionary.com/words-containing-d 2245\n",
      "https://www.thefreedictionary.com/words-containing-e 2376\n",
      "https://www.thefreedictionary.com/words-containing-f 1929\n",
      "https://www.thefreedictionary.com/words-containing-g 2124\n",
      "https://www.thefreedictionary.com/words-containing-h 2362\n",
      "https://www.thefreedictionary.com/words-containing-i 2361\n",
      "https://www.thefreedictionary.com/words-containing-j 1451\n",
      "https://www.thefreedictionary.com/words-containing-k 1761\n",
      "https://www.thefreedictionary.com/words-containing-l 2358\n",
      "https://www.thefreedictionary.com/words-containing-m 2286\n",
      "https://www.thefreedictionary.com/words-containing-n 2366\n",
      "https://www.thefreedictionary.com/words-containing-o 2382\n",
      "https://www.thefreedictionary.com/words-containing-p 2287\n",
      "https://www.thefreedictionary.com/words-containing-q 1467\n",
      "https://www.thefreedictionary.com/words-containing-r 2359\n",
      "https://www.thefreedictionary.com/words-containing-s 2280\n",
      "https://www.thefreedictionary.com/words-containing-t 2373\n",
      "https://www.thefreedictionary.com/words-containing-u 2178\n",
      "https://www.thefreedictionary.com/words-containing-v 1860\n",
      "https://www.thefreedictionary.com/words-containing-w 1556\n",
      "https://www.thefreedictionary.com/words-containing-x 1777\n",
      "https://www.thefreedictionary.com/words-containing-y 2307\n",
      "https://www.thefreedictionary.com/words-containing-z 1816\n"
     ]
    }
   ],
   "source": [
    "words_list = []\n",
    "for x in ['a', 'b', 'c', 'd', 'e', 'f', 'g', 'h', 'i', 'j', 'k', 'l', 'm', 'n', 'o', 'p', 'q', 'r',\n",
    "                         's', 't', 'u', 'v', 'w', 'x', 'y', 'z']:\n",
    "    words_list = set(list(words_list) + run(\"https://www.thefreedictionary.com/words-containing-\"+x))"
   ]
  },
  {
   "cell_type": "code",
   "execution_count": 13,
   "metadata": {},
   "outputs": [
    {
     "name": "stdout",
     "output_type": "stream",
     "text": [
      "a 1427\n",
      "b 1043\n",
      "c 1925\n",
      "d 1292\n",
      "e 1206\n",
      "f 742\n",
      "g 450\n",
      "h 891\n",
      "i 916\n",
      "j 629\n",
      "k 288\n",
      "l 498\n",
      "m 987\n",
      "n 446\n",
      "o 486\n",
      "p 1517\n",
      "q 468\n",
      "r 747\n",
      "s 1461\n",
      "t 836\n",
      "u 635\n",
      "v 350\n",
      "w 561\n",
      "x 60\n",
      "y 83\n",
      "z 171\n"
     ]
    }
   ],
   "source": [
    "whole_dict = {}\n",
    "for a in ['a', 'b', 'c', 'd', 'e', 'f', 'g', 'h', 'i', 'j', 'k', 'l', 'm', 'n', 'o', 'p', 'q', 'r',\n",
    "                         's', 't', 'u', 'v', 'w', 'x', 'y', 'z']:\n",
    "    whole_dict[a] = [x for x in words_list if x[0]==a]\n",
    "    print(a, len(whole_dict[a]))\n",
    "\n",
    "with open(\"dict.pickle\", \"wb\") as f:\n",
    "    pickle.dump(file=f, obj=whole_dict, protocol=2)"
   ]
  },
  {
   "cell_type": "code",
   "execution_count": 14,
   "metadata": {},
   "outputs": [
    {
     "data": {
      "text/plain": [
       "20115"
      ]
     },
     "execution_count": 14,
     "metadata": {},
     "output_type": "execute_result"
    }
   ],
   "source": [
    "len(words_list)"
   ]
  },
  {
   "cell_type": "code",
   "execution_count": null,
   "metadata": {},
   "outputs": [],
   "source": []
  }
 ],
 "metadata": {
  "kernelspec": {
   "display_name": "Python 3",
   "language": "python",
   "name": "python3"
  },
  "language_info": {
   "codemirror_mode": {
    "name": "ipython",
    "version": 3
   },
   "file_extension": ".py",
   "mimetype": "text/x-python",
   "name": "python",
   "nbconvert_exporter": "python",
   "pygments_lexer": "ipython3",
   "version": "3.7.1"
  },
  "toc": {
   "base_numbering": 1,
   "nav_menu": {},
   "number_sections": true,
   "sideBar": true,
   "skip_h1_title": false,
   "title_cell": "Table of Contents",
   "title_sidebar": "Contents",
   "toc_cell": false,
   "toc_position": {},
   "toc_section_display": true,
   "toc_window_display": false
  },
  "varInspector": {
   "cols": {
    "lenName": 16,
    "lenType": 16,
    "lenVar": 40
   },
   "kernels_config": {
    "python": {
     "delete_cmd_postfix": "",
     "delete_cmd_prefix": "del ",
     "library": "var_list.py",
     "varRefreshCmd": "print(var_dic_list())"
    },
    "r": {
     "delete_cmd_postfix": ") ",
     "delete_cmd_prefix": "rm(",
     "library": "var_list.r",
     "varRefreshCmd": "cat(var_dic_list()) "
    }
   },
   "types_to_exclude": [
    "module",
    "function",
    "builtin_function_or_method",
    "instance",
    "_Feature"
   ],
   "window_display": false
  }
 },
 "nbformat": 4,
 "nbformat_minor": 2
}
